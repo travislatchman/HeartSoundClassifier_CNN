{
  "nbformat": 4,
  "nbformat_minor": 0,
  "metadata": {
    "colab": {
      "provenance": [],
      "toc_visible": true
    },
    "kernelspec": {
      "name": "python3",
      "display_name": "Python 3"
    },
    "language_info": {
      "name": "python"
    },
    "accelerator": "GPU",
    "gpuClass": "standard"
  },
  "cells": [
    {
      "cell_type": "code",
      "execution_count": 43,
      "metadata": {
        "id": "b0aMnZJYWXIw"
      },
      "outputs": [],
      "source": [
        "import os\n",
        "import torch\n",
        "import librosa\n",
        "import numpy as np\n",
        "from torch import nn\n",
        "from torch.utils.data import Dataset, DataLoader, random_split\n",
        "from scipy.signal import butter, lfilter\n",
        "import scipy.io\n",
        "from collections import defaultdict\n",
        "from sklearn.preprocessing import LabelEncoder\n",
        "from sklearn.metrics import classification_report, confusion_matrix\n",
        "import seaborn as sns\n",
        "import matplotlib.pyplot as plt\n",
        "from collections import Counter\n",
        "import sklearn.metrics as metrics\n",
        "from torchsummary import summary\n",
        "\n",
        "seed = 1\n",
        "np.random.seed(seed)\n",
        "rng = np.random.default_rng(seed) # seeded random number generator"
      ]
    },
    {
      "cell_type": "markdown",
      "source": [
        "### Preprocessing functions"
      ],
      "metadata": {
        "id": "7kycKlr4xKbR"
      }
    },
    {
      "cell_type": "code",
      "source": [
        "# Preprocessing functions\n",
        "def load_audio_file(file_path, target_sample_rate = 2000):\n",
        "    audio_data, sample_rate = librosa.load(file_path, sr=target_sample_rate)\n",
        "    # if (sample_rate - target_sample_rate)**2 > 100:\n",
        "    #   audio_data, sample_rate = librosa.load(file_path, sr=2000)\n",
        "    return audio_data, sample_rate\n",
        "\n",
        "def butter_lowpass(cutoff, fs, order=5):\n",
        "  nyq = 0.5 * fs\n",
        "  normal_cutoff = cutoff / nyq\n",
        "  b, a = butter(order, normal_cutoff, btype='low', analog=False)\n",
        "  return b, a\n",
        "\n",
        "def butter_lowpass_filter(data, cutoff, fs, order=5):\n",
        "  b, a = butter_lowpass(cutoff, fs, order=order)\n",
        "  y = lfilter(b, a, data)\n",
        "  return y\n",
        "\n",
        "def apply_lowpass_filter(audio_data, sample_rate, cutoff=195):\n",
        "  filtered_data = butter_lowpass_filter(audio_data, cutoff, sample_rate)\n",
        "  return filtered_data\n",
        "\n",
        "def perform_fft(filtered_data):\n",
        "  fft_data = np.fft.fft(filtered_data)\n",
        "  return fft_data"
      ],
      "metadata": {
        "id": "-ZvEYAZyxHwO"
      },
      "execution_count": 44,
      "outputs": []
    },
    {
      "cell_type": "markdown",
      "source": [
        "### Data Augmentation functions\n"
      ],
      "metadata": {
        "id": "JFjcgThv1Gad"
      }
    },
    {
      "cell_type": "markdown",
      "source": [
        "##### Time Shifting - shift the audio signal by a random amount"
      ],
      "metadata": {
        "id": "YRqOFJe_1mYz"
      }
    },
    {
      "cell_type": "code",
      "source": [
        "def time_shift(audio_data, sample_rate):\n",
        "    shift_amount = int(sample_rate * np.random.uniform(-0.1, 0.1))\n",
        "    shifted_data = np.roll(audio_data, shift_amount)\n",
        "    return shifted_data"
      ],
      "metadata": {
        "id": "v-gK7f0V1KcC"
      },
      "execution_count": 45,
      "outputs": []
    },
    {
      "cell_type": "markdown",
      "source": [
        "##### Pitch Shifting - Change the pitch of the audio signal by a random factor"
      ],
      "metadata": {
        "id": "hkji_fKx1tAc"
      }
    },
    {
      "cell_type": "code",
      "source": [
        "def pitch_shift(audio_data, sample_rate):\n",
        "    pitch_shift_amount = np.random.uniform(-1.0, 1.0)\n",
        "    shifted_data = librosa.effects.pitch_shift(audio_data, sr=sample_rate, n_steps=pitch_shift_amount)\n",
        "    return shifted_data"
      ],
      "metadata": {
        "id": "GPIdt85512Ab"
      },
      "execution_count": 46,
      "outputs": []
    },
    {
      "cell_type": "markdown",
      "source": [
        "##### Add Random Noise"
      ],
      "metadata": {
        "id": "uC9egwA6165j"
      }
    },
    {
      "cell_type": "code",
      "source": [
        "def add_noise(audio_data):\n",
        "    noise_level = np.random.uniform(0.005, 0.05)\n",
        "    noise = np.random.randn(len(audio_data)) * noise_level\n",
        "    noisy_data = audio_data + noise # add noise ~ normal(mean=0, std=noise_level)\n",
        "    return noisy_data"
      ],
      "metadata": {
        "id": "zR6gGgYk19LW"
      },
      "execution_count": 47,
      "outputs": []
    },
    {
      "cell_type": "code",
      "source": [
        "audio_data,_ = "
      ],
      "metadata": {
        "id": "bt-VyewGSuDc"
      },
      "execution_count": null,
      "outputs": []
    },
    {
      "cell_type": "markdown",
      "source": [
        "### Building Dataset"
      ],
      "metadata": {
        "id": "kl87moFrx4lt"
      }
    },
    {
      "cell_type": "code",
      "source": [
        "class HeartSoundDataset(Dataset):\n",
        "    def __init__(self, file_paths, labels, num_output_samples, transform=None, weights=None, augmentation=False):\n",
        "        self.file_paths = file_paths\n",
        "        if torch.is_tensor(labels):\n",
        "          self.labels = labels\n",
        "        else:\n",
        "          self.labels = torch.from_numpy(labels).float()\n",
        "        self.transform = transform\n",
        "        self.num_output_samples = num_output_samples\n",
        "        self.weights = weights\n",
        "        self.augmentation = augmentation\n",
        "\n",
        "    def __len__(self):\n",
        "        return len(self.file_paths)\n",
        "\n",
        "    def __getitem__(self, idx):\n",
        "        # file_path = self.file_paths[idx]\n",
        "        # audio_data, sample_rate = load_audio_file(file_path)\n",
        "        # file_paths is an array of all recordings\n",
        "        audio_data = self.file_paths[idx]\n",
        "        sample_rate = 2000\n",
        "        # Apply data augmentation techniques if the augmentation parameter is set to True\n",
        "        if self.augmentation:\n",
        "            audio_data = time_shift(audio_data, sample_rate)\n",
        "            audio_data = pitch_shift(audio_data, sample_rate)\n",
        "            audio_data = add_noise(audio_data)\n",
        "\n",
        "        filtered_data = apply_lowpass_filter(audio_data, sample_rate)\n",
        "        fft_data = perform_fft(filtered_data)\n",
        "\n",
        "        # Use only the real part of the FFT data\n",
        "        real_fft_data = np.real(fft_data)\n",
        "\n",
        "        # Normalize data\n",
        "        normalized_data = (real_fft_data - np.min(real_fft_data)) / (np.max(real_fft_data) - np.min(real_fft_data))\n",
        "\n",
        "        if self.transform:\n",
        "            normalized_data = self.transform(normalized_data)\n",
        "\n",
        "        label = self.labels[idx]\n",
        "\n",
        "        if self.weights:\n",
        "          weight = self.weights[idx]\n",
        "          return torch.tensor(normalized_data[:self.num_output_samples]).float(), label, weight\n",
        "\n",
        "        return torch.tensor(normalized_data[:self.num_output_samples]).float(), label\n",
        "\n"
      ],
      "metadata": {
        "id": "WdNHHOeK2h2o"
      },
      "execution_count": 48,
      "outputs": []
    },
    {
      "cell_type": "code",
      "source": [
        "def create_dataloaders(file_paths, labels, max_num_samples, rng, train_ratio=0.7, val_ratio=0.15, test_ratio=0.15, batch_size=100, weights=None, augmentation=True):\n",
        "    dataset_size = len(file_paths)\n",
        "    train_size = int(train_ratio * dataset_size)\n",
        "    val_size = int(val_ratio * dataset_size)\n",
        "    test_size = dataset_size - train_size - val_size\n",
        "\n",
        "    dataset = HeartSoundDataset(file_paths, labels, max_num_samples)\n",
        "    train_set, val_set, test_set = random_split(dataset, [train_size, val_size, test_size]) #, generator=rng)\n",
        "\n",
        "    if weights:\n",
        "      # Apply data augmentation only to the training dataset\n",
        "      train_set.dataset = HeartSoundDataset(train_set.dataset.file_paths, train_set.dataset.labels, \n",
        "                                            train_set.dataset.num_output_samples, weights=weights, augmentation=augmentation)\n",
        "\n",
        "    train_loader = DataLoader(train_set, batch_size=batch_size, shuffle=True)\n",
        "    val_loader = DataLoader(val_set, batch_size=batch_size, shuffle=False)\n",
        "    test_loader = DataLoader(test_set, batch_size=batch_size, shuffle=False)\n",
        "\n",
        "    return train_loader, val_loader, test_loader\n"
      ],
      "metadata": {
        "id": "g8JWv0S23NX1"
      },
      "execution_count": 49,
      "outputs": []
    },
    {
      "cell_type": "markdown",
      "source": [
        "### Classifier with Dropout and Regularization (REVIEW)"
      ],
      "metadata": {
        "id": "6Q-2DnWtPf-M"
      }
    },
    {
      "cell_type": "code",
      "source": [
        "class HeartSoundClassifier(nn.Module):\n",
        "    def __init__(self, input_size, num_classes):\n",
        "        super(HeartSoundClassifier, self).__init__()\n",
        "        self.cnn_layers = nn.Sequential(\n",
        "            # 1st Conv\n",
        "            nn.Conv1d(1, 8, kernel_size=19, stride=1),\n",
        "            nn.BatchNorm1d(8), # BATCH \n",
        "            nn.ReLU(),\n",
        "            nn.MaxPool1d(16),\n",
        "            nn.Dropout(0.5), # DROPOUT\n",
        "        \n",
        "            # 2nd Conv\n",
        "            nn.Conv1d(8, 16, kernel_size=19, stride=1),\n",
        "            nn.BatchNorm1d(16),\n",
        "            nn.ReLU(),\n",
        "            nn.MaxPool1d(16),\n",
        "            nn.Dropout(0.5),\n",
        "        )\n",
        "        self.classifier = nn.Sequential(\n",
        "            nn.Flatten(),\n",
        "            nn.Linear(528, 32),\n",
        "            nn.ReLU(),\n",
        "            nn.Dropout(0.5),\n",
        "\n",
        "            nn.Linear(32, 1) # Single logit to feed into Sigmoid\n",
        "            # self.softmax = nn.Softmax(0)\n",
        "        )\n",
        "\n",
        "    def forward(self, x):\n",
        "        x = x.unsqueeze(1)\n",
        "        x = self.cnn_layers(x)\n",
        "        x = self.classifier(x)\n",
        "        return x"
      ],
      "metadata": {
        "id": "DNCWVKuYPkmU"
      },
      "execution_count": 50,
      "outputs": []
    },
    {
      "cell_type": "code",
      "source": [
        "class HeartSoundClassifier2(nn.Module):\n",
        "    def __init__(self):\n",
        "        super(HeartSoundClassifier2, self).__init__()\n",
        "        self.cnn_layers = nn.Sequential(\n",
        "            # 1st Conv Layer\n",
        "            nn.Conv1d(1, 8, kernel_size=5, stride=1),\n",
        "            nn.BatchNorm1d(8),\n",
        "            nn.ReLU(),\n",
        "            nn.MaxPool1d(2),\n",
        "            # 2nd Conv Layer\n",
        "            nn.Conv1d(8, 4, kernel_size=5, stride=1),\n",
        "            nn.BatchNorm1d(4),\n",
        "            nn.ReLU(),\n",
        "            nn.MaxPool1d(2),\n",
        "            nn.Dropout(0.25)\n",
        "        )\n",
        "        self.classifier = nn.Sequential(\n",
        "          nn.Flatten(),\n",
        "          nn.Linear(4*2247, 32),\n",
        "          nn.Dropout(0.5),\n",
        "          nn.ReLU(),\n",
        "          nn.Linear(32, 1)\n",
        "        )\n",
        "\n",
        "    def forward(self, x):\n",
        "        x = x.unsqueeze(1)\n",
        "        x = self.cnn_layers(x)\n",
        "        x = self.classifier(x)\n",
        "        return x"
      ],
      "metadata": {
        "id": "Slf3tbdlxPgh"
      },
      "execution_count": 51,
      "outputs": []
    },
    {
      "cell_type": "code",
      "source": [
        "def write_prepped_audio(label_dir, file_name, audio_sample_len, target_sample_rate = 2000):\n",
        "  if file_name[-4:] != \".wav\": return None, None\n",
        "\n",
        "  if not os.path.exists(os.path.join(label_dir, \"prepped_audio\")):\n",
        "    os.makedirs(os.path.join(label_dir, \"prepped_audio\"))\n",
        "  new_file_path = os.path.join(label_dir, \"prepped_audio\", file_name)\n",
        "  if os.path.exists(new_file_path): return new_file_path, None\n",
        "\n",
        "  audio_data, sample_rate = load_audio_file(os.path.join(label_dir, file_name), target_sample_rate)\n",
        "\n",
        "  # if audio_data is shorter than 1/3 the target audio sample length, return None\n",
        "  # else, pad with zeros\n",
        "  if len(audio_data) < audio_sample_len/3:\n",
        "    return None, None\n",
        "  elif len(audio_data) < audio_sample_len:\n",
        "    audio_data = np.concatenate((audio_data, np.zeros(audio_sample_len)), dtype=np.float32)\n",
        "  scipy.io.wavfile.write(new_file_path, sample_rate, audio_data[:audio_sample_len])\n",
        "  return new_file_path, audio_data[:audio_sample_len]"
      ],
      "metadata": {
        "id": "mxGqC-qO5nAR"
      },
      "execution_count": 52,
      "outputs": []
    },
    {
      "cell_type": "markdown",
      "source": [
        "# Training, Validation, Testing"
      ],
      "metadata": {
        "id": "ru7SmQPFzG32"
      }
    },
    {
      "cell_type": "code",
      "source": [
        "from google.colab import drive\n",
        "drive.mount('/content/drive')"
      ],
      "metadata": {
        "colab": {
          "base_uri": "https://localhost:8080/"
        },
        "id": "keGkVuaGQqnH",
        "outputId": "f4e4e57e-d8e1-4788-afce-5a9e4208a300"
      },
      "execution_count": 53,
      "outputs": [
        {
          "output_type": "stream",
          "name": "stdout",
          "text": [
            "Drive already mounted at /content/drive; to attempt to forcibly remount, call drive.mount(\"/content/drive\", force_remount=True).\n"
          ]
        }
      ]
    },
    {
      "cell_type": "code",
      "source": [
        "# Load data and create data loaders\n",
        "# data_dir = '/content/drive/MyDrive/MLMA Group/CardiacData/DatasetB'\n",
        "data_dir = '/content/drive/MyDrive/MLMA Group/CardiacData/physionet cardiac sounds/heart_sound/train'\n",
        "label_encoder = LabelEncoder()\n",
        "\n",
        "file_paths = []\n",
        "labels = []\n",
        "audio_sample_len = 9000\n",
        "target_sample_rate = 2000\n",
        "data = []\n",
        "\n",
        "for label in os.listdir(data_dir):\n",
        "  label_dir = os.path.join(data_dir, label)\n",
        "  for file_name in os.listdir(label_dir):\n",
        "    new_file_path, _ = write_prepped_audio(label_dir, file_name, audio_sample_len, target_sample_rate)\n",
        "    if new_file_path is not None:\n",
        "      file_paths.append(new_file_path)\n",
        "      labels.append(label)\n",
        "      audio_data, _ = load_audio_file(os.path.join(label_dir, file_name))\n",
        "      # Store all recordings into a list\n",
        "      data.append(audio_data[:audio_sample_len])\n",
        "data_array = np.vstack(data)\n",
        "encoded_labels = label_encoder.fit_transform(labels)\n",
        "\n"
      ],
      "metadata": {
        "id": "z4RSLt6Yyk5S"
      },
      "execution_count": 54,
      "outputs": []
    },
    {
      "cell_type": "code",
      "source": [
        "# Create weights for unbalanced dataset\n",
        "class_counts = dict(Counter(labels))\n",
        "class_weights = [class_counts['healthy']/len(labels), class_counts['unhealthy']/len(labels)]\n",
        "weights = list()\n",
        "for label in encoded_labels:\n",
        "  weights.append(class_weights[label])\n",
        "\n",
        "train_loader, val_loader, test_loader = create_dataloaders(data_array, encoded_labels, audio_sample_len, rng, weights=weights, augmentation=False)\n"
      ],
      "metadata": {
        "id": "7W3CinUw9aeA"
      },
      "execution_count": 55,
      "outputs": []
    },
    {
      "cell_type": "code",
      "source": [
        "# Initialize the model, loss function, and optimizer\n",
        "model = HeartSoundClassifier2()\n",
        "criterion = nn.BCEWithLogitsLoss(reduction='none')\n",
        "learning_rate = 0.01\n",
        "optimizer = torch.optim.Adam(model.parameters(), lr=0.0007, weight_decay=1e-5)\n",
        "\n",
        "summary(model.cuda(), input_size=(9000,))"
      ],
      "metadata": {
        "id": "P_UyDLT0y0Ou",
        "colab": {
          "base_uri": "https://localhost:8080/"
        },
        "outputId": "5622bbea-bbf1-4e5c-a6f5-3018447aaa14"
      },
      "execution_count": 56,
      "outputs": [
        {
          "output_type": "stream",
          "name": "stdout",
          "text": [
            "----------------------------------------------------------------\n",
            "        Layer (type)               Output Shape         Param #\n",
            "================================================================\n",
            "            Conv1d-1              [-1, 8, 8996]              48\n",
            "       BatchNorm1d-2              [-1, 8, 8996]              16\n",
            "              ReLU-3              [-1, 8, 8996]               0\n",
            "         MaxPool1d-4              [-1, 8, 4498]               0\n",
            "            Conv1d-5              [-1, 4, 4494]             164\n",
            "       BatchNorm1d-6              [-1, 4, 4494]               8\n",
            "              ReLU-7              [-1, 4, 4494]               0\n",
            "         MaxPool1d-8              [-1, 4, 2247]               0\n",
            "           Dropout-9              [-1, 4, 2247]               0\n",
            "          Flatten-10                 [-1, 8988]               0\n",
            "           Linear-11                   [-1, 32]         287,648\n",
            "          Dropout-12                   [-1, 32]               0\n",
            "             ReLU-13                   [-1, 32]               0\n",
            "           Linear-14                    [-1, 1]              33\n",
            "================================================================\n",
            "Total params: 287,917\n",
            "Trainable params: 287,917\n",
            "Non-trainable params: 0\n",
            "----------------------------------------------------------------\n",
            "Input size (MB): 0.03\n",
            "Forward/backward pass size (MB): 2.54\n",
            "Params size (MB): 1.10\n",
            "Estimated Total Size (MB): 3.67\n",
            "----------------------------------------------------------------\n"
          ]
        }
      ]
    },
    {
      "cell_type": "markdown",
      "source": [
        "### Early Stopping (REVIEW) "
      ],
      "metadata": {
        "id": "_PZV-8O26OuG"
      }
    },
    {
      "cell_type": "code",
      "source": [
        "# Set early stopping parameters\n",
        "patience = 5\n",
        "min_delta = 0.001\n",
        "num_epochs = 100\n",
        "\n",
        "def train_model(model, train_loader, val_loader, optimizer, num_epochs=10, classifier_threshold=0.5, patience=5, min_delta=0.001):\n",
        "  train_losses = []\n",
        "  val_losses = []\n",
        "  train_accs = []\n",
        "  val_accs = []\n",
        "\n",
        "  device = torch.device(\"cuda\" if torch.cuda.is_available() else \"cpu\")\n",
        "  model.to(device)\n",
        "\n",
        "  # Initialize variables to track best validation loss and epochs without improvement\n",
        "  best_val_loss = 0\n",
        "  epochs_without_improvement = 0\n",
        "\n",
        "  for epoch in range(num_epochs):\n",
        "    # Train the model\n",
        "    model.train()\n",
        "    train_loss = 0.0\n",
        "    train_correct = 0\n",
        "    for batch_num, (data, labels, weights) in enumerate(train_loader):\n",
        "      data, labels, weights = data.to(device), labels.to(device), weights.to(device)\n",
        "      optimizer.zero_grad()\n",
        "      output_logits = model(data)[:,0]\n",
        "      intermediate_loss = criterion(output_logits, labels)\n",
        "      loss = torch.mean(weights*intermediate_loss)\n",
        "      loss.backward()\n",
        "      optimizer.step()\n",
        "      train_loss += loss.item() * data.shape[0]\n",
        "      pred = nn.Sigmoid()(output_logits)\n",
        "      pred = torch.where(pred > classifier_threshold, 1, 0)\n",
        "      train_correct += (pred == labels).long().sum().item()\n",
        "\n",
        "    # Compute training accuracy and loss\n",
        "    train_acc = 100 * train_correct / len(train_loader.dataset)\n",
        "    train_loss /= len(train_loader.dataset)\n",
        "    train_accs.append(train_acc)\n",
        "    train_losses.append(train_loss)\n",
        "\n",
        "    # Validate the model\n",
        "    model.eval()\n",
        "    val_loss = 0.0\n",
        "    val_correct = 0\n",
        "    with torch.no_grad():\n",
        "      for data, labels in val_loader:\n",
        "        data, labels = data.to(device), labels.to(device)\n",
        "        output_logits = model(data)[:,0]\n",
        "        intermediate_loss = criterion(output_logits, labels)\n",
        "        loss = torch.mean(intermediate_loss)\n",
        "        val_loss += loss.item() * data.shape[0]\n",
        "        pred = nn.Sigmoid()(output_logits)\n",
        "        pred = torch.where(pred > classifier_threshold, 1, 0)\n",
        "        val_correct += (pred==labels).long().sum().item()\n",
        "\n",
        "    # Compute validation accuracy and loss\n",
        "    val_acc = 100 * val_correct / len(val_loader.dataset)\n",
        "    val_loss /= len(val_loader.dataset)\n",
        "    val_accs.append(val_acc)\n",
        "    val_losses.append(val_loss)\n",
        "\n",
        "    print(f'Epoch [{epoch+1}/{num_epochs}], Training Loss: {train_loss:.4f}, Training Accuracy: {train_acc:.2f}%, Validation Loss: {val_loss:.4f}, Validation Accuracy: {val_acc:.2f}%')\n",
        "\n",
        "    # Early stopping logic\n",
        "    if abs(val_loss - best_val_loss) > min_delta:\n",
        "      best_val_loss = val_loss\n",
        "      epochs_without_improvement = 0\n",
        "    else:\n",
        "      epochs_without_improvement += 1\n",
        "\n",
        "    if epochs_without_improvement >= patience:\n",
        "      print(f'Early stopping triggered after {epoch+1} epochs')\n",
        "      torch.save(model.state_dict(),'/content/drive/MyDrive/Colab Notebooks/ML for Medication Apps/Project/physionet_model.pt')\n",
        "      return train_losses, train_accs, val_losses, val_accs\n",
        "    torch.save(model.state_dict(),'/content/drive/MyDrive/Colab Notebooks/ML for Medication Apps/Project/physionet_model.pt')\n",
        "  return train_losses, train_accs, val_losses, val_accs\n",
        "\n",
        "train_losses, train_accs, val_losses, val_accs = train_model(model, train_loader, val_loader, optimizer, num_epochs, patience=patience, min_delta=min_delta)"
      ],
      "metadata": {
        "id": "HSWPy27Z6Tou",
        "colab": {
          "base_uri": "https://localhost:8080/"
        },
        "outputId": "092fcb56-e1c7-4659-a521-8acbb0874dda"
      },
      "execution_count": 57,
      "outputs": [
        {
          "output_type": "stream",
          "name": "stdout",
          "text": [
            "Epoch [1/100], Training Loss: 0.1984, Training Accuracy: 78.79%, Validation Loss: 0.5714, Validation Accuracy: 79.42%\n",
            "Epoch [2/100], Training Loss: 0.1398, Training Accuracy: 79.72%, Validation Loss: 0.4719, Validation Accuracy: 79.42%\n",
            "Epoch [3/100], Training Loss: 0.1302, Training Accuracy: 79.59%, Validation Loss: 0.4100, Validation Accuracy: 79.42%\n",
            "Epoch [4/100], Training Loss: 0.1281, Training Accuracy: 79.67%, Validation Loss: 0.3943, Validation Accuracy: 79.42%\n",
            "Epoch [5/100], Training Loss: 0.1191, Training Accuracy: 79.67%, Validation Loss: 0.4343, Validation Accuracy: 79.42%\n",
            "Epoch [6/100], Training Loss: 0.1187, Training Accuracy: 79.67%, Validation Loss: 0.4153, Validation Accuracy: 79.42%\n",
            "Epoch [7/100], Training Loss: 0.1165, Training Accuracy: 79.67%, Validation Loss: 0.3674, Validation Accuracy: 79.42%\n",
            "Epoch [8/100], Training Loss: 0.1163, Training Accuracy: 79.67%, Validation Loss: 0.3931, Validation Accuracy: 79.42%\n",
            "Epoch [9/100], Training Loss: 0.1107, Training Accuracy: 79.67%, Validation Loss: 0.4168, Validation Accuracy: 79.42%\n",
            "Epoch [10/100], Training Loss: 0.1085, Training Accuracy: 79.67%, Validation Loss: 0.3986, Validation Accuracy: 79.42%\n",
            "Epoch [11/100], Training Loss: 0.1120, Training Accuracy: 79.67%, Validation Loss: 0.3717, Validation Accuracy: 79.42%\n",
            "Epoch [12/100], Training Loss: 0.1067, Training Accuracy: 79.67%, Validation Loss: 0.3929, Validation Accuracy: 79.42%\n",
            "Epoch [13/100], Training Loss: 0.1025, Training Accuracy: 79.67%, Validation Loss: 0.4006, Validation Accuracy: 79.42%\n",
            "Epoch [14/100], Training Loss: 0.0981, Training Accuracy: 79.67%, Validation Loss: 0.3972, Validation Accuracy: 79.42%\n",
            "Epoch [15/100], Training Loss: 0.0970, Training Accuracy: 79.67%, Validation Loss: 0.4136, Validation Accuracy: 79.42%\n",
            "Epoch [16/100], Training Loss: 0.0964, Training Accuracy: 79.67%, Validation Loss: 0.4452, Validation Accuracy: 79.42%\n",
            "Epoch [17/100], Training Loss: 0.0938, Training Accuracy: 79.67%, Validation Loss: 0.3821, Validation Accuracy: 79.42%\n",
            "Epoch [18/100], Training Loss: 0.0951, Training Accuracy: 79.67%, Validation Loss: 0.3908, Validation Accuracy: 79.42%\n",
            "Epoch [19/100], Training Loss: 0.0947, Training Accuracy: 79.67%, Validation Loss: 0.4438, Validation Accuracy: 79.42%\n",
            "Epoch [20/100], Training Loss: 0.0954, Training Accuracy: 79.67%, Validation Loss: 0.4002, Validation Accuracy: 79.42%\n",
            "Epoch [21/100], Training Loss: 0.0918, Training Accuracy: 79.67%, Validation Loss: 0.4129, Validation Accuracy: 79.42%\n",
            "Epoch [22/100], Training Loss: 0.0890, Training Accuracy: 79.67%, Validation Loss: 0.3966, Validation Accuracy: 79.42%\n",
            "Epoch [23/100], Training Loss: 0.0885, Training Accuracy: 79.67%, Validation Loss: 0.4107, Validation Accuracy: 79.42%\n",
            "Epoch [24/100], Training Loss: 0.0882, Training Accuracy: 79.67%, Validation Loss: 0.4038, Validation Accuracy: 79.42%\n",
            "Epoch [25/100], Training Loss: 0.0875, Training Accuracy: 79.67%, Validation Loss: 0.3904, Validation Accuracy: 84.77%\n",
            "Epoch [26/100], Training Loss: 0.0833, Training Accuracy: 84.96%, Validation Loss: 0.4006, Validation Accuracy: 81.89%\n",
            "Epoch [27/100], Training Loss: 0.0776, Training Accuracy: 85.54%, Validation Loss: 0.4348, Validation Accuracy: 83.95%\n",
            "Epoch [28/100], Training Loss: 0.0817, Training Accuracy: 85.85%, Validation Loss: 0.4081, Validation Accuracy: 83.54%\n",
            "Epoch [29/100], Training Loss: 0.0820, Training Accuracy: 86.16%, Validation Loss: 0.4150, Validation Accuracy: 84.77%\n",
            "Epoch [30/100], Training Loss: 0.0785, Training Accuracy: 86.51%, Validation Loss: 0.4149, Validation Accuracy: 83.74%\n",
            "Epoch [31/100], Training Loss: 0.0803, Training Accuracy: 85.89%, Validation Loss: 0.4770, Validation Accuracy: 83.13%\n",
            "Epoch [32/100], Training Loss: 0.0818, Training Accuracy: 87.61%, Validation Loss: 0.4009, Validation Accuracy: 84.98%\n",
            "Epoch [33/100], Training Loss: 0.0787, Training Accuracy: 87.21%, Validation Loss: 0.5287, Validation Accuracy: 82.51%\n",
            "Epoch [34/100], Training Loss: 0.0804, Training Accuracy: 86.51%, Validation Loss: 0.4290, Validation Accuracy: 82.92%\n",
            "Epoch [35/100], Training Loss: 0.0817, Training Accuracy: 86.86%, Validation Loss: 0.4459, Validation Accuracy: 81.07%\n",
            "Epoch [36/100], Training Loss: 0.0763, Training Accuracy: 85.89%, Validation Loss: 0.4377, Validation Accuracy: 84.57%\n",
            "Epoch [37/100], Training Loss: 0.0741, Training Accuracy: 87.26%, Validation Loss: 0.4870, Validation Accuracy: 82.30%\n",
            "Epoch [38/100], Training Loss: 0.0756, Training Accuracy: 86.95%, Validation Loss: 0.4651, Validation Accuracy: 84.77%\n",
            "Epoch [39/100], Training Loss: 0.0763, Training Accuracy: 88.14%, Validation Loss: 0.5174, Validation Accuracy: 80.86%\n",
            "Epoch [40/100], Training Loss: 0.0771, Training Accuracy: 86.86%, Validation Loss: 0.4192, Validation Accuracy: 83.95%\n",
            "Epoch [41/100], Training Loss: 0.0763, Training Accuracy: 88.18%, Validation Loss: 0.5222, Validation Accuracy: 83.54%\n",
            "Epoch [42/100], Training Loss: 0.0736, Training Accuracy: 87.70%, Validation Loss: 0.4201, Validation Accuracy: 85.60%\n",
            "Epoch [43/100], Training Loss: 0.0681, Training Accuracy: 88.98%, Validation Loss: 0.4831, Validation Accuracy: 83.95%\n",
            "Epoch [44/100], Training Loss: 0.0664, Training Accuracy: 89.64%, Validation Loss: 0.4261, Validation Accuracy: 85.60%\n",
            "Epoch [45/100], Training Loss: 0.0663, Training Accuracy: 89.15%, Validation Loss: 0.4783, Validation Accuracy: 84.16%\n",
            "Epoch [46/100], Training Loss: 0.0725, Training Accuracy: 89.29%, Validation Loss: 0.4710, Validation Accuracy: 84.98%\n",
            "Epoch [47/100], Training Loss: 0.0727, Training Accuracy: 88.93%, Validation Loss: 0.4746, Validation Accuracy: 85.39%\n",
            "Epoch [48/100], Training Loss: 0.0695, Training Accuracy: 89.11%, Validation Loss: 0.4717, Validation Accuracy: 85.60%\n",
            "Epoch [49/100], Training Loss: 0.0658, Training Accuracy: 90.65%, Validation Loss: 0.5531, Validation Accuracy: 83.54%\n",
            "Epoch [50/100], Training Loss: 0.0652, Training Accuracy: 90.21%, Validation Loss: 0.4892, Validation Accuracy: 84.16%\n",
            "Epoch [51/100], Training Loss: 0.0648, Training Accuracy: 90.48%, Validation Loss: 0.4891, Validation Accuracy: 85.39%\n",
            "Epoch [52/100], Training Loss: 0.0685, Training Accuracy: 89.33%, Validation Loss: 0.5030, Validation Accuracy: 85.19%\n",
            "Epoch [53/100], Training Loss: 0.0658, Training Accuracy: 89.95%, Validation Loss: 0.4892, Validation Accuracy: 83.95%\n",
            "Epoch [54/100], Training Loss: 0.0651, Training Accuracy: 90.39%, Validation Loss: 0.4441, Validation Accuracy: 84.98%\n",
            "Epoch [55/100], Training Loss: 0.0676, Training Accuracy: 90.74%, Validation Loss: 0.5094, Validation Accuracy: 85.39%\n",
            "Epoch [56/100], Training Loss: 0.0681, Training Accuracy: 90.52%, Validation Loss: 0.4084, Validation Accuracy: 86.42%\n",
            "Epoch [57/100], Training Loss: 0.0678, Training Accuracy: 90.39%, Validation Loss: 0.4595, Validation Accuracy: 85.19%\n",
            "Epoch [58/100], Training Loss: 0.0650, Training Accuracy: 90.83%, Validation Loss: 0.5036, Validation Accuracy: 84.16%\n",
            "Epoch [59/100], Training Loss: 0.0649, Training Accuracy: 91.09%, Validation Loss: 0.4077, Validation Accuracy: 87.45%\n",
            "Epoch [60/100], Training Loss: 0.0610, Training Accuracy: 91.23%, Validation Loss: 0.5576, Validation Accuracy: 85.39%\n",
            "Epoch [61/100], Training Loss: 0.0624, Training Accuracy: 91.14%, Validation Loss: 0.4698, Validation Accuracy: 86.83%\n",
            "Epoch [62/100], Training Loss: 0.0680, Training Accuracy: 91.23%, Validation Loss: 0.4746, Validation Accuracy: 86.42%\n",
            "Epoch [63/100], Training Loss: 0.0641, Training Accuracy: 91.53%, Validation Loss: 0.5468, Validation Accuracy: 84.57%\n",
            "Epoch [64/100], Training Loss: 0.0611, Training Accuracy: 92.02%, Validation Loss: 0.4686, Validation Accuracy: 85.80%\n",
            "Epoch [65/100], Training Loss: 0.0631, Training Accuracy: 91.49%, Validation Loss: 0.5665, Validation Accuracy: 85.19%\n",
            "Epoch [66/100], Training Loss: 0.0605, Training Accuracy: 92.77%, Validation Loss: 0.5422, Validation Accuracy: 84.77%\n",
            "Epoch [67/100], Training Loss: 0.0586, Training Accuracy: 92.33%, Validation Loss: 0.4802, Validation Accuracy: 87.04%\n",
            "Epoch [68/100], Training Loss: 0.0614, Training Accuracy: 91.05%, Validation Loss: 0.4710, Validation Accuracy: 85.60%\n",
            "Epoch [69/100], Training Loss: 0.0614, Training Accuracy: 91.75%, Validation Loss: 0.4826, Validation Accuracy: 85.39%\n",
            "Epoch [70/100], Training Loss: 0.0599, Training Accuracy: 92.02%, Validation Loss: 0.5149, Validation Accuracy: 85.60%\n",
            "Epoch [71/100], Training Loss: 0.0592, Training Accuracy: 92.24%, Validation Loss: 0.4785, Validation Accuracy: 86.63%\n",
            "Epoch [72/100], Training Loss: 0.0603, Training Accuracy: 92.55%, Validation Loss: 0.5496, Validation Accuracy: 87.04%\n",
            "Epoch [73/100], Training Loss: 0.0572, Training Accuracy: 92.64%, Validation Loss: 0.4893, Validation Accuracy: 86.42%\n",
            "Epoch [74/100], Training Loss: 0.0560, Training Accuracy: 93.47%, Validation Loss: 0.4934, Validation Accuracy: 85.60%\n",
            "Epoch [75/100], Training Loss: 0.0570, Training Accuracy: 92.86%, Validation Loss: 0.5186, Validation Accuracy: 86.83%\n",
            "Epoch [76/100], Training Loss: 0.0570, Training Accuracy: 93.39%, Validation Loss: 0.5723, Validation Accuracy: 86.63%\n",
            "Epoch [77/100], Training Loss: 0.0611, Training Accuracy: 92.68%, Validation Loss: 0.5649, Validation Accuracy: 84.36%\n",
            "Epoch [78/100], Training Loss: 0.0623, Training Accuracy: 91.67%, Validation Loss: 0.5195, Validation Accuracy: 86.01%\n",
            "Epoch [79/100], Training Loss: 0.0614, Training Accuracy: 92.50%, Validation Loss: 0.5930, Validation Accuracy: 85.60%\n",
            "Epoch [80/100], Training Loss: 0.0617, Training Accuracy: 92.59%, Validation Loss: 0.5125, Validation Accuracy: 87.04%\n",
            "Epoch [81/100], Training Loss: 0.0552, Training Accuracy: 93.78%, Validation Loss: 0.4915, Validation Accuracy: 86.21%\n",
            "Epoch [82/100], Training Loss: 0.0552, Training Accuracy: 92.86%, Validation Loss: 0.5278, Validation Accuracy: 86.01%\n",
            "Epoch [83/100], Training Loss: 0.0571, Training Accuracy: 92.24%, Validation Loss: 0.5272, Validation Accuracy: 87.04%\n",
            "Epoch [84/100], Training Loss: 0.0545, Training Accuracy: 93.08%, Validation Loss: 0.5469, Validation Accuracy: 85.60%\n",
            "Epoch [85/100], Training Loss: 0.0551, Training Accuracy: 92.95%, Validation Loss: 0.6529, Validation Accuracy: 85.60%\n",
            "Epoch [86/100], Training Loss: 0.0539, Training Accuracy: 93.61%, Validation Loss: 0.6173, Validation Accuracy: 85.60%\n",
            "Epoch [87/100], Training Loss: 0.0561, Training Accuracy: 92.68%, Validation Loss: 0.4959, Validation Accuracy: 87.04%\n",
            "Epoch [88/100], Training Loss: 0.0572, Training Accuracy: 93.12%, Validation Loss: 0.5270, Validation Accuracy: 87.45%\n",
            "Epoch [89/100], Training Loss: 0.0586, Training Accuracy: 93.61%, Validation Loss: 0.5078, Validation Accuracy: 88.07%\n",
            "Epoch [90/100], Training Loss: 0.0617, Training Accuracy: 92.77%, Validation Loss: 0.5162, Validation Accuracy: 87.45%\n",
            "Epoch [91/100], Training Loss: 0.0536, Training Accuracy: 93.74%, Validation Loss: 0.5941, Validation Accuracy: 86.21%\n",
            "Epoch [92/100], Training Loss: 0.0551, Training Accuracy: 93.92%, Validation Loss: 0.5644, Validation Accuracy: 86.01%\n",
            "Epoch [93/100], Training Loss: 0.0526, Training Accuracy: 93.74%, Validation Loss: 0.5496, Validation Accuracy: 87.65%\n",
            "Epoch [94/100], Training Loss: 0.0544, Training Accuracy: 94.44%, Validation Loss: 0.5405, Validation Accuracy: 87.65%\n",
            "Epoch [95/100], Training Loss: 0.0529, Training Accuracy: 93.43%, Validation Loss: 0.5449, Validation Accuracy: 86.63%\n",
            "Epoch [96/100], Training Loss: 0.0531, Training Accuracy: 93.47%, Validation Loss: 0.5891, Validation Accuracy: 86.83%\n",
            "Epoch [97/100], Training Loss: 0.0530, Training Accuracy: 93.74%, Validation Loss: 0.5862, Validation Accuracy: 87.04%\n",
            "Epoch [98/100], Training Loss: 0.0532, Training Accuracy: 94.00%, Validation Loss: 0.5918, Validation Accuracy: 87.24%\n",
            "Epoch [99/100], Training Loss: 0.0517, Training Accuracy: 93.92%, Validation Loss: 0.5203, Validation Accuracy: 87.45%\n",
            "Epoch [100/100], Training Loss: 0.0532, Training Accuracy: 93.69%, Validation Loss: 0.5415, Validation Accuracy: 87.04%\n"
          ]
        }
      ]
    },
    {
      "cell_type": "code",
      "source": [
        "fig, ax = plt.subplots(1,2, figsize=(8,4))\n",
        "x = range(1,len(train_losses)+1)\n",
        "ax[0].set_title('Training and Validation Loss')\n",
        "ax[0].plot(x, train_losses, label='Training')\n",
        "ax[0].plot(x, val_losses, label='Validation')\n",
        "ax[0].legend()\n",
        "ax[1].set_title('Training and Validation Accuracy')\n",
        "ax[1].plot(x, train_accs, label='Training')\n",
        "ax[1].plot(x, val_accs, label='Validation')\n",
        "ax[1].legend()"
      ],
      "metadata": {
        "colab": {
          "base_uri": "https://localhost:8080/",
          "height": 408
        },
        "id": "UznsNzb5mUi4",
        "outputId": "2f2ea454-d80b-45fc-9860-62aaa0740db7"
      },
      "execution_count": 60,
      "outputs": [
        {
          "output_type": "execute_result",
          "data": {
            "text/plain": [
              "<matplotlib.legend.Legend at 0x7f7f373a5520>"
            ]
          },
          "metadata": {},
          "execution_count": 60
        },
        {
          "output_type": "display_data",
          "data": {
            "text/plain": [
              "<Figure size 800x400 with 2 Axes>"
            ],
            "image/png": "[encoded data removed]"
          },
          "metadata": {}
        }
      ]
    },
    {
      "cell_type": "markdown",
      "source": [
        "### Train and Validate"
      ],
      "metadata": {
        "id": "iSTHh8HA6VkL"
      }
    },
    {
      "cell_type": "code",
      "source": [
        "def Test_model(model, test_dataloader, classifier_threshold=0.5):\n",
        "  \"\"\"Test model on test dataset and returns predictions and targets\"\"\"\n",
        "  model.eval()\n",
        "  device = torch.device(\"cuda\" if torch.cuda.is_available() else \"cpu\")\n",
        "  model.to(device)\n",
        "  test_loss = 0.0\n",
        "  test_correct = 0\n",
        "  target = []\n",
        "  prediction = []\n",
        "  with torch.no_grad():\n",
        "    for data, labels in test_dataloader:\n",
        "      data, labels = data.to(device), labels.to(device)\n",
        "      output_logits = model(data)[:,0]\n",
        "\n",
        "      pred = nn.Sigmoid()(output_logits)\n",
        "      pred = torch.where(pred > classifier_threshold, 1, 0)\n",
        "      prediction.append(pred.cpu().tolist())\n",
        "      target.append(labels.cpu().tolist())\n",
        "  target = np.hstack(target)\n",
        "  prediction = np.hstack(prediction)\n",
        "\n",
        "  return target, prediction"
      ],
      "metadata": {
        "id": "_p1mUc9smo4F"
      },
      "execution_count": 61,
      "outputs": []
    },
    {
      "cell_type": "code",
      "source": [
        "# Test the model\n",
        "model = HeartSoundClassifier2()\n",
        "model.load_state_dict(torch.load('/content/drive/MyDrive/Colab Notebooks/ML for Medication Apps/Project/physionet_model.pt'))\n",
        "y_true, y_pred = Test_model(model, test_loader)\n",
        "# model.eval()\n",
        "# with torch.no_grad():\n",
        "#     y_true = []\n",
        "#     y_pred = []\n",
        "#     for data, labels in test_loader:\n",
        "#         outputs = model(data)\n",
        "#         _, predicted = torch.max(outputs.data, 1)\n",
        "#         y_true.extend(labels.numpy())\n",
        "#         y_pred.extend(predicted.numpy())\n",
        "\n"
      ],
      "metadata": {
        "id": "V7lf_N-uy-zX"
      },
      "execution_count": 62,
      "outputs": []
    },
    {
      "cell_type": "markdown",
      "source": [
        "### F1, Precision, Recall, Sensitivity, Specificity, TP, FP, TN, FN, plot and ROC curve and calculate AUC"
      ],
      "metadata": {
        "id": "qf0sO-7y8cuT"
      }
    },
    {
      "cell_type": "code",
      "source": [
        "# Evaluation metrics\n",
        "print('\\nClassification Report:')\n",
        "print(classification_report(y_true, y_pred, target_names=label_encoder.classes_))\n",
        "\n",
        "confusion_mtx = confusion_matrix(y_true, y_pred)\n",
        "sns.heatmap(confusion_mtx, annot=True, fmt='d', xticklabels=label_encoder.classes_, yticklabels=label_encoder.classes_)\n",
        "plt.xlabel('Predicted')\n",
        "plt.ylabel('True')\n",
        "plt.title('Confusion Matrix')\n",
        "plt.show()"
      ],
      "metadata": {
        "id": "2f0eOplQzA3I",
        "colab": {
          "base_uri": "https://localhost:8080/",
          "height": 659
        },
        "outputId": "6b04ea3b-76c0-4a69-bffb-a91d4bea9ef0"
      },
      "execution_count": 63,
      "outputs": [
        {
          "output_type": "stream",
          "name": "stdout",
          "text": [
            "\n",
            "Classification Report:\n",
            "              precision    recall  f1-score   support\n",
            "\n",
            "     healthy       0.85      0.97      0.91       382\n",
            "   unhealthy       0.80      0.38      0.52       104\n",
            "\n",
            "    accuracy                           0.85       486\n",
            "   macro avg       0.83      0.68      0.71       486\n",
            "weighted avg       0.84      0.85      0.83       486\n",
            "\n"
          ]
        },
        {
          "output_type": "display_data",
          "data": {
            "text/plain": [
              "<Figure size 640x480 with 2 Axes>"
            ],
            "image/png": "[encoded data removed]"
          },
          "metadata": {}
        }
      ]
    },
    {
      "cell_type": "code",
      "source": [
        "recall = metrics.recall_score(y_true,y_pred)\n",
        "precision = metrics.precision_score(y_true,y_pred)\n",
        "accuracy = metrics.accuracy_score(y_true,y_pred)\n",
        "f1_score = metrics.f1_score(y_true,y_pred)\n",
        "print(f\"Test metrics:\\n\\tRecall-rate: {recall:.4f}\\n\\tPrecision: {precision:.4f}\"\n",
        "      +f\"\\n\\tAccuracy: {accuracy:.4f}\\n\\tF1-Score: {f1_score:.4f}\")"
      ],
      "metadata": {
        "colab": {
          "base_uri": "https://localhost:8080/"
        },
        "id": "3ZMueyLwm4ow",
        "outputId": "4f54a6b7-5c33-4546-9ced-6b357577874e"
      },
      "execution_count": 64,
      "outputs": [
        {
          "output_type": "stream",
          "name": "stdout",
          "text": [
            "Test metrics:\n",
            "\tRecall-rate: 0.3846\n",
            "\tPrecision: 0.8000\n",
            "\tAccuracy: 0.8477\n",
            "\tF1-Score: 0.5195\n"
          ]
        }
      ]
    },
    {
      "cell_type": "markdown",
      "source": [
        "# Transfer Learning"
      ],
      "metadata": {
        "id": "HfyWHR2mS_Oo"
      }
    },
    {
      "cell_type": "code",
      "source": [
        "# Load DatasetB\n",
        "\n",
        "data_dir = '/content/drive/MyDrive/MLMA Group/CardiacData/DatasetB'\n",
        "label_encoder = LabelEncoder()\n",
        "\n",
        "file_paths = []\n",
        "labels = []\n",
        "audio_sample_len = 9000\n",
        "target_sample_rate = 2000\n",
        "data = []\n",
        "\n",
        "for label in os.listdir(data_dir):\n",
        "  label_dir = os.path.join(data_dir, label)\n",
        "  for file_name in os.listdir(label_dir):\n",
        "    new_file_path, _ = write_prepped_audio(label_dir, file_name, audio_sample_len, target_sample_rate)\n",
        "    if new_file_path is not None:\n",
        "      file_paths.append(new_file_path)\n",
        "      labels.append(label)\n",
        "      audio_data, _ = load_audio_file(new_file_path)\n",
        "      # Store all recordings into a list\n",
        "      data.append(audio_data[:audio_sample_len])\n",
        "\n",
        "data_array = np.vstack(data)\n",
        "encoded_labels = label_encoder.fit_transform(labels)\n",
        "\n"
      ],
      "metadata": {
        "id": "anKRJ8hKTApe"
      },
      "execution_count": 65,
      "outputs": []
    },
    {
      "cell_type": "code",
      "source": [
        "# Create weights for unbalanced dataset\n",
        "class_counts = dict(Counter(labels))\n",
        "classes = label_encoder.classes_\n",
        "class_weights = [class_counts[classes[0]]/len(labels), class_counts[classes[1]]/len(labels), class_counts[classes[2]]/len(labels)]\n",
        "\n",
        "train_loader, val_loader, test_loader = create_dataloaders(data_array, encoded_labels, audio_sample_len, rng, augmentation=False)"
      ],
      "metadata": {
        "id": "OkJbu1SxU5H6"
      },
      "execution_count": 66,
      "outputs": []
    },
    {
      "cell_type": "code",
      "source": [
        "class PASCALClassifier(nn.Module):\n",
        "    def __init__(self, pretrained_cnn):\n",
        "        super(PASCALClassifier, self).__init__()\n",
        "        self.cnn = pretrained_cnn\n",
        "        self.classifier = nn.Sequential(\n",
        "            nn.Flatten(),\n",
        "            nn.Linear(4*2247, 32),\n",
        "            nn.Dropout(0.5),\n",
        "            nn.ReLU(),\n",
        "            nn.Linear(32, 3)\n",
        "        )\n",
        "\n",
        "    def forward(self, x):\n",
        "        x = x.unsqueeze(1)\n",
        "        x = self.cnn(x)\n",
        "        x = self.classifier(x)\n",
        "        return x\n"
      ],
      "metadata": {
        "id": "YaxkXyGPb4tg"
      },
      "execution_count": 67,
      "outputs": []
    },
    {
      "cell_type": "code",
      "source": [
        "# Load pretrained model\n",
        "pretrained_model = HeartSoundClassifier2()\n",
        "pretrained_model.load_state_dict(torch.load('/content/drive/MyDrive/Colab Notebooks/ML for Medication Apps/Project/physionet_model.pt'))\n",
        "cnn = pretrained_model.cnn_layers\n",
        "\n",
        "# Freeze CNN layers\n",
        "for param in cnn.parameters():\n",
        "  param.requires_grad = False\n",
        "\n",
        "# Add new classification layers to tune\n",
        "PASCAL_model = PASCALClassifier(cnn)\n",
        "device = torch.device(\"cuda\" if torch.cuda.is_available() else \"cpu\")\n",
        "weights = torch.FloatTensor(class_weights).to(device)\n",
        "criterion = nn.CrossEntropyLoss(weight=weights)\n",
        "optimizer = torch.optim.Adam(PASCAL_model.classifier.parameters(), lr=0.0007, weight_decay=1e-5)\n",
        "summary(PASCAL_model.cuda(), input_size=(9000,))"
      ],
      "metadata": {
        "colab": {
          "base_uri": "https://localhost:8080/"
        },
        "id": "J96a6hxceZDs",
        "outputId": "c02d6a00-8bbb-4b90-8f49-173a8d4e71c0"
      },
      "execution_count": 68,
      "outputs": [
        {
          "output_type": "stream",
          "name": "stdout",
          "text": [
            "----------------------------------------------------------------\n",
            "        Layer (type)               Output Shape         Param #\n",
            "================================================================\n",
            "            Conv1d-1              [-1, 8, 8996]              48\n",
            "       BatchNorm1d-2              [-1, 8, 8996]              16\n",
            "              ReLU-3              [-1, 8, 8996]               0\n",
            "         MaxPool1d-4              [-1, 8, 4498]               0\n",
            "            Conv1d-5              [-1, 4, 4494]             164\n",
            "       BatchNorm1d-6              [-1, 4, 4494]               8\n",
            "              ReLU-7              [-1, 4, 4494]               0\n",
            "         MaxPool1d-8              [-1, 4, 2247]               0\n",
            "           Dropout-9              [-1, 4, 2247]               0\n",
            "          Flatten-10                 [-1, 8988]               0\n",
            "           Linear-11                   [-1, 32]         287,648\n",
            "          Dropout-12                   [-1, 32]               0\n",
            "             ReLU-13                   [-1, 32]               0\n",
            "           Linear-14                    [-1, 3]              99\n",
            "================================================================\n",
            "Total params: 287,983\n",
            "Trainable params: 287,747\n",
            "Non-trainable params: 236\n",
            "----------------------------------------------------------------\n",
            "Input size (MB): 0.03\n",
            "Forward/backward pass size (MB): 2.54\n",
            "Params size (MB): 1.10\n",
            "Estimated Total Size (MB): 3.67\n",
            "----------------------------------------------------------------\n"
          ]
        }
      ]
    },
    {
      "cell_type": "code",
      "source": [
        "# Finetune classifier\n",
        "# Set early stopping parameters\n",
        "patience = 5\n",
        "min_delta = 0.001\n",
        "num_epochs = 100\n",
        "\n",
        "def tune_model(model, criterion, train_loader, val_loader, optimizer, num_epochs=10, patience=5, min_delta=0.001):\n",
        "  train_losses = []\n",
        "  val_losses = []\n",
        "  train_accs = []\n",
        "  val_accs = []\n",
        "\n",
        "  device = torch.device(\"cuda\" if torch.cuda.is_available() else \"cpu\")\n",
        "  model.to(device)\n",
        "\n",
        "  # Initialize variables to track best validation loss and epochs without improvement\n",
        "  best_val_loss = 0\n",
        "  epochs_without_improvement = 0\n",
        "\n",
        "  for epoch in range(num_epochs):\n",
        "    # Train the model\n",
        "    model.train()\n",
        "    train_loss = 0.0\n",
        "    train_correct = 0\n",
        "    for batch_num, (data, labels) in enumerate(train_loader):\n",
        "      labels = labels.type(torch.LongTensor)\n",
        "      data, labels = data.to(device), labels.to(device)\n",
        "      optimizer.zero_grad()\n",
        "      output_logits = model(data)\n",
        "      loss = criterion(output_logits, labels)\n",
        "      loss.backward()\n",
        "      optimizer.step()\n",
        "      train_loss += loss.item() * data.shape[0]\n",
        "      pred = torch.softmax(output_logits, dim=1)\n",
        "      pred = pred.argmax(dim=1)\n",
        "      train_correct += (pred == labels).long().sum().item()\n",
        "\n",
        "    # Compute training accuracy and loss\n",
        "    train_acc = 100 * train_correct / len(train_loader.dataset)\n",
        "    train_loss /= len(train_loader.dataset)\n",
        "    train_accs.append(train_acc)\n",
        "    train_losses.append(train_loss)\n",
        "\n",
        "    # Validate the model\n",
        "    model.eval()\n",
        "    val_loss = 0.0\n",
        "    val_correct = 0\n",
        "    with torch.no_grad():\n",
        "      for data, labels in val_loader:\n",
        "        labels = labels.type(torch.LongTensor)\n",
        "        data, labels = data.to(device), labels.to(device)\n",
        "        output_logits = model(data)\n",
        "        loss = criterion(output_logits, labels)\n",
        "        val_loss += loss.item() * data.shape[0]\n",
        "        pred = torch.softmax(output_logits, dim=1)\n",
        "        pred = pred.argmax(dim=1)\n",
        "        val_correct += (pred==labels).long().sum().item()\n",
        "\n",
        "    # Compute validation accuracy and loss\n",
        "    val_acc = 100 * val_correct / len(val_loader.dataset)\n",
        "    val_loss /= len(val_loader.dataset)\n",
        "    val_accs.append(val_acc)\n",
        "    val_losses.append(val_loss)\n",
        "\n",
        "    print(f'Epoch [{epoch+1}/{num_epochs}], Training Loss: {train_loss:.4f}, Training Accuracy: {train_acc:.2f}%, Validation Loss: {val_loss:.4f}, Validation Accuracy: {val_acc:.2f}%')\n",
        "\n",
        "    # Early stopping logic\n",
        "    if abs(val_loss - best_val_loss) > min_delta:\n",
        "      best_val_loss = val_loss\n",
        "      epochs_without_improvement = 0\n",
        "    else:\n",
        "      epochs_without_improvement += 1\n",
        "\n",
        "    if epochs_without_improvement >= patience:\n",
        "      print(f'Early stopping triggered after {epoch+1} epochs')\n",
        "      torch.save(model.state_dict(),'/content/drive/MyDrive/Colab Notebooks/ML for Medication Apps/Project/pascal_model.pt')\n",
        "      return train_losses, train_accs, val_losses, val_accs\n",
        "    torch.save(model.state_dict(),'/content/drive/MyDrive/Colab Notebooks/ML for Medication Apps/Project/pascal_model.pt')\n",
        "  \n",
        "  return train_losses, train_accs, val_losses, val_accs\n",
        "\n",
        "train_losses, train_accs, val_losses, val_accs = tune_model(PASCAL_model, criterion, train_loader, val_loader, optimizer, num_epochs, patience=patience, min_delta=min_delta)"
      ],
      "metadata": {
        "colab": {
          "base_uri": "https://localhost:8080/"
        },
        "id": "UnhH8Ya4jxVF",
        "outputId": "a3053131-fac7-43c0-b06a-38de2440fa88"
      },
      "execution_count": 69,
      "outputs": [
        {
          "output_type": "stream",
          "name": "stdout",
          "text": [
            "Epoch [1/100], Training Loss: 0.9199, Training Accuracy: 45.81%, Validation Loss: 0.5709, Validation Accuracy: 62.79%\n",
            "Epoch [2/100], Training Loss: 0.6741, Training Accuracy: 62.07%, Validation Loss: 0.5656, Validation Accuracy: 62.79%\n",
            "Epoch [3/100], Training Loss: 0.6931, Training Accuracy: 62.07%, Validation Loss: 0.5426, Validation Accuracy: 62.79%\n",
            "Epoch [4/100], Training Loss: 0.5858, Training Accuracy: 63.55%, Validation Loss: 0.5912, Validation Accuracy: 65.12%\n",
            "Epoch [5/100], Training Loss: 0.5391, Training Accuracy: 64.04%, Validation Loss: 0.5416, Validation Accuracy: 65.12%\n",
            "Epoch [6/100], Training Loss: 0.5235, Training Accuracy: 63.55%, Validation Loss: 0.5127, Validation Accuracy: 62.79%\n",
            "Epoch [7/100], Training Loss: 0.5341, Training Accuracy: 63.55%, Validation Loss: 0.5148, Validation Accuracy: 65.12%\n",
            "Epoch [8/100], Training Loss: 0.4417, Training Accuracy: 66.01%, Validation Loss: 0.5130, Validation Accuracy: 65.12%\n",
            "Epoch [9/100], Training Loss: 0.4563, Training Accuracy: 66.50%, Validation Loss: 0.5138, Validation Accuracy: 65.12%\n",
            "Epoch [10/100], Training Loss: 0.4187, Training Accuracy: 65.02%, Validation Loss: 0.5118, Validation Accuracy: 65.12%\n",
            "Epoch [11/100], Training Loss: 0.4288, Training Accuracy: 66.50%, Validation Loss: 0.5097, Validation Accuracy: 65.12%\n",
            "Epoch [12/100], Training Loss: 0.4055, Training Accuracy: 67.49%, Validation Loss: 0.5133, Validation Accuracy: 67.44%\n",
            "Epoch [13/100], Training Loss: 0.4444, Training Accuracy: 69.46%, Validation Loss: 0.5152, Validation Accuracy: 65.12%\n",
            "Epoch [14/100], Training Loss: 0.4355, Training Accuracy: 68.47%, Validation Loss: 0.5210, Validation Accuracy: 65.12%\n",
            "Epoch [15/100], Training Loss: 0.4351, Training Accuracy: 67.98%, Validation Loss: 0.5160, Validation Accuracy: 65.12%\n",
            "Epoch [16/100], Training Loss: 0.3748, Training Accuracy: 71.92%, Validation Loss: 0.5090, Validation Accuracy: 67.44%\n",
            "Epoch [17/100], Training Loss: 0.3734, Training Accuracy: 70.94%, Validation Loss: 0.5217, Validation Accuracy: 65.12%\n",
            "Epoch [18/100], Training Loss: 0.4141, Training Accuracy: 68.47%, Validation Loss: 0.5220, Validation Accuracy: 65.12%\n",
            "Epoch [19/100], Training Loss: 0.3967, Training Accuracy: 67.49%, Validation Loss: 0.5279, Validation Accuracy: 65.12%\n",
            "Epoch [20/100], Training Loss: 0.3847, Training Accuracy: 66.50%, Validation Loss: 0.5340, Validation Accuracy: 65.12%\n",
            "Epoch [21/100], Training Loss: 0.3550, Training Accuracy: 70.44%, Validation Loss: 0.5337, Validation Accuracy: 65.12%\n",
            "Epoch [22/100], Training Loss: 0.3677, Training Accuracy: 66.50%, Validation Loss: 0.5343, Validation Accuracy: 65.12%\n",
            "Epoch [23/100], Training Loss: 0.3383, Training Accuracy: 71.43%, Validation Loss: 0.5362, Validation Accuracy: 67.44%\n",
            "Epoch [24/100], Training Loss: 0.3360, Training Accuracy: 71.92%, Validation Loss: 0.5356, Validation Accuracy: 67.44%\n",
            "Epoch [25/100], Training Loss: 0.3249, Training Accuracy: 73.40%, Validation Loss: 0.5279, Validation Accuracy: 67.44%\n",
            "Epoch [26/100], Training Loss: 0.3537, Training Accuracy: 74.38%, Validation Loss: 0.5325, Validation Accuracy: 67.44%\n",
            "Epoch [27/100], Training Loss: 0.2850, Training Accuracy: 75.37%, Validation Loss: 0.5297, Validation Accuracy: 67.44%\n",
            "Epoch [28/100], Training Loss: 0.3202, Training Accuracy: 73.89%, Validation Loss: 0.5338, Validation Accuracy: 67.44%\n",
            "Epoch [29/100], Training Loss: 0.3269, Training Accuracy: 76.35%, Validation Loss: 0.5357, Validation Accuracy: 67.44%\n",
            "Epoch [30/100], Training Loss: 0.3043, Training Accuracy: 75.86%, Validation Loss: 0.5424, Validation Accuracy: 67.44%\n",
            "Epoch [31/100], Training Loss: 0.2993, Training Accuracy: 70.44%, Validation Loss: 0.5727, Validation Accuracy: 65.12%\n",
            "Epoch [32/100], Training Loss: 0.2959, Training Accuracy: 70.94%, Validation Loss: 0.5881, Validation Accuracy: 65.12%\n",
            "Epoch [33/100], Training Loss: 0.3125, Training Accuracy: 70.44%, Validation Loss: 0.5700, Validation Accuracy: 65.12%\n",
            "Epoch [34/100], Training Loss: 0.3075, Training Accuracy: 72.41%, Validation Loss: 0.5410, Validation Accuracy: 65.12%\n",
            "Epoch [35/100], Training Loss: 0.2719, Training Accuracy: 72.41%, Validation Loss: 0.5353, Validation Accuracy: 65.12%\n",
            "Epoch [36/100], Training Loss: 0.2981, Training Accuracy: 75.37%, Validation Loss: 0.5432, Validation Accuracy: 65.12%\n",
            "Epoch [37/100], Training Loss: 0.2976, Training Accuracy: 74.38%, Validation Loss: 0.5589, Validation Accuracy: 65.12%\n",
            "Epoch [38/100], Training Loss: 0.2991, Training Accuracy: 68.47%, Validation Loss: 0.5675, Validation Accuracy: 65.12%\n",
            "Epoch [39/100], Training Loss: 0.2884, Training Accuracy: 69.46%, Validation Loss: 0.5636, Validation Accuracy: 65.12%\n",
            "Epoch [40/100], Training Loss: 0.2791, Training Accuracy: 70.94%, Validation Loss: 0.5359, Validation Accuracy: 67.44%\n",
            "Epoch [41/100], Training Loss: 0.2831, Training Accuracy: 73.40%, Validation Loss: 0.5268, Validation Accuracy: 67.44%\n",
            "Epoch [42/100], Training Loss: 0.2689, Training Accuracy: 74.38%, Validation Loss: 0.5312, Validation Accuracy: 67.44%\n",
            "Epoch [43/100], Training Loss: 0.2601, Training Accuracy: 74.38%, Validation Loss: 0.5334, Validation Accuracy: 69.77%\n",
            "Epoch [44/100], Training Loss: 0.2702, Training Accuracy: 77.34%, Validation Loss: 0.5722, Validation Accuracy: 65.12%\n",
            "Epoch [45/100], Training Loss: 0.3211, Training Accuracy: 77.34%, Validation Loss: 0.5605, Validation Accuracy: 69.77%\n",
            "Epoch [46/100], Training Loss: 0.2928, Training Accuracy: 75.37%, Validation Loss: 0.5461, Validation Accuracy: 67.44%\n",
            "Epoch [47/100], Training Loss: 0.2658, Training Accuracy: 74.38%, Validation Loss: 0.5468, Validation Accuracy: 65.12%\n",
            "Epoch [48/100], Training Loss: 0.2298, Training Accuracy: 75.37%, Validation Loss: 0.5134, Validation Accuracy: 65.12%\n",
            "Epoch [49/100], Training Loss: 0.2481, Training Accuracy: 78.33%, Validation Loss: 0.5093, Validation Accuracy: 65.12%\n",
            "Epoch [50/100], Training Loss: 0.2891, Training Accuracy: 71.43%, Validation Loss: 0.5112, Validation Accuracy: 65.12%\n",
            "Epoch [51/100], Training Loss: 0.2781, Training Accuracy: 75.37%, Validation Loss: 0.5204, Validation Accuracy: 65.12%\n",
            "Epoch [52/100], Training Loss: 0.2639, Training Accuracy: 74.88%, Validation Loss: 0.5470, Validation Accuracy: 65.12%\n",
            "Epoch [53/100], Training Loss: 0.2721, Training Accuracy: 72.41%, Validation Loss: 0.5709, Validation Accuracy: 65.12%\n",
            "Epoch [54/100], Training Loss: 0.2709, Training Accuracy: 75.37%, Validation Loss: 0.5781, Validation Accuracy: 65.12%\n",
            "Epoch [55/100], Training Loss: 0.2414, Training Accuracy: 74.88%, Validation Loss: 0.5726, Validation Accuracy: 65.12%\n",
            "Epoch [56/100], Training Loss: 0.2266, Training Accuracy: 75.86%, Validation Loss: 0.5666, Validation Accuracy: 65.12%\n",
            "Epoch [57/100], Training Loss: 0.2241, Training Accuracy: 74.88%, Validation Loss: 0.5562, Validation Accuracy: 67.44%\n",
            "Epoch [58/100], Training Loss: 0.2309, Training Accuracy: 76.85%, Validation Loss: 0.5552, Validation Accuracy: 69.77%\n",
            "Epoch [59/100], Training Loss: 0.2113, Training Accuracy: 77.83%, Validation Loss: 0.5606, Validation Accuracy: 69.77%\n",
            "Epoch [60/100], Training Loss: 0.2111, Training Accuracy: 77.34%, Validation Loss: 0.5648, Validation Accuracy: 65.12%\n",
            "Epoch [61/100], Training Loss: 0.1769, Training Accuracy: 81.28%, Validation Loss: 0.5664, Validation Accuracy: 65.12%\n",
            "Epoch [62/100], Training Loss: 0.2171, Training Accuracy: 76.35%, Validation Loss: 0.5669, Validation Accuracy: 67.44%\n",
            "Epoch [63/100], Training Loss: 0.2056, Training Accuracy: 78.33%, Validation Loss: 0.5792, Validation Accuracy: 65.12%\n",
            "Epoch [64/100], Training Loss: 0.1994, Training Accuracy: 79.80%, Validation Loss: 0.5790, Validation Accuracy: 67.44%\n",
            "Epoch [65/100], Training Loss: 0.2073, Training Accuracy: 78.82%, Validation Loss: 0.5709, Validation Accuracy: 67.44%\n",
            "Epoch [66/100], Training Loss: 0.2075, Training Accuracy: 80.30%, Validation Loss: 0.5571, Validation Accuracy: 69.77%\n",
            "Epoch [67/100], Training Loss: 0.2095, Training Accuracy: 81.28%, Validation Loss: 0.5650, Validation Accuracy: 65.12%\n",
            "Epoch [68/100], Training Loss: 0.2163, Training Accuracy: 82.76%, Validation Loss: 0.5604, Validation Accuracy: 67.44%\n",
            "Epoch [69/100], Training Loss: 0.1759, Training Accuracy: 82.27%, Validation Loss: 0.5521, Validation Accuracy: 67.44%\n",
            "Epoch [70/100], Training Loss: 0.2209, Training Accuracy: 79.80%, Validation Loss: 0.5596, Validation Accuracy: 65.12%\n",
            "Epoch [71/100], Training Loss: 0.2069, Training Accuracy: 82.27%, Validation Loss: 0.5468, Validation Accuracy: 69.77%\n",
            "Epoch [72/100], Training Loss: 0.2314, Training Accuracy: 75.86%, Validation Loss: 0.5742, Validation Accuracy: 65.12%\n",
            "Epoch [73/100], Training Loss: 0.1956, Training Accuracy: 77.83%, Validation Loss: 0.6154, Validation Accuracy: 65.12%\n",
            "Epoch [74/100], Training Loss: 0.2529, Training Accuracy: 75.86%, Validation Loss: 0.5971, Validation Accuracy: 65.12%\n",
            "Epoch [75/100], Training Loss: 0.2224, Training Accuracy: 75.86%, Validation Loss: 0.5633, Validation Accuracy: 69.77%\n",
            "Epoch [76/100], Training Loss: 0.1846, Training Accuracy: 84.24%, Validation Loss: 0.5608, Validation Accuracy: 69.77%\n",
            "Epoch [77/100], Training Loss: 0.2089, Training Accuracy: 81.28%, Validation Loss: 0.5659, Validation Accuracy: 69.77%\n",
            "Epoch [78/100], Training Loss: 0.1839, Training Accuracy: 83.25%, Validation Loss: 0.5712, Validation Accuracy: 69.77%\n",
            "Epoch [79/100], Training Loss: 0.1824, Training Accuracy: 80.30%, Validation Loss: 0.5820, Validation Accuracy: 69.77%\n",
            "Epoch [80/100], Training Loss: 0.2117, Training Accuracy: 81.28%, Validation Loss: 0.5997, Validation Accuracy: 62.79%\n",
            "Epoch [81/100], Training Loss: 0.2049, Training Accuracy: 83.74%, Validation Loss: 0.6063, Validation Accuracy: 69.77%\n",
            "Epoch [82/100], Training Loss: 0.2087, Training Accuracy: 77.83%, Validation Loss: 0.6132, Validation Accuracy: 69.77%\n",
            "Epoch [83/100], Training Loss: 0.1829, Training Accuracy: 81.28%, Validation Loss: 0.6203, Validation Accuracy: 69.77%\n",
            "Epoch [84/100], Training Loss: 0.1614, Training Accuracy: 83.74%, Validation Loss: 0.6290, Validation Accuracy: 67.44%\n",
            "Epoch [85/100], Training Loss: 0.1536, Training Accuracy: 83.74%, Validation Loss: 0.6394, Validation Accuracy: 65.12%\n",
            "Epoch [86/100], Training Loss: 0.1624, Training Accuracy: 83.25%, Validation Loss: 0.6490, Validation Accuracy: 65.12%\n",
            "Epoch [87/100], Training Loss: 0.1678, Training Accuracy: 81.77%, Validation Loss: 0.6508, Validation Accuracy: 67.44%\n",
            "Epoch [88/100], Training Loss: 0.1482, Training Accuracy: 85.71%, Validation Loss: 0.6516, Validation Accuracy: 67.44%\n",
            "Epoch [89/100], Training Loss: 0.1534, Training Accuracy: 85.22%, Validation Loss: 0.6047, Validation Accuracy: 69.77%\n",
            "Epoch [90/100], Training Loss: 0.1735, Training Accuracy: 87.19%, Validation Loss: 0.5963, Validation Accuracy: 62.79%\n",
            "Epoch [91/100], Training Loss: 0.2097, Training Accuracy: 88.67%, Validation Loss: 0.5647, Validation Accuracy: 65.12%\n",
            "Epoch [92/100], Training Loss: 0.2146, Training Accuracy: 85.71%, Validation Loss: 0.5577, Validation Accuracy: 65.12%\n",
            "Epoch [93/100], Training Loss: 0.1910, Training Accuracy: 83.25%, Validation Loss: 0.5889, Validation Accuracy: 67.44%\n",
            "Epoch [94/100], Training Loss: 0.1718, Training Accuracy: 82.76%, Validation Loss: 0.6394, Validation Accuracy: 65.12%\n",
            "Epoch [95/100], Training Loss: 0.1590, Training Accuracy: 82.76%, Validation Loss: 0.6751, Validation Accuracy: 65.12%\n",
            "Epoch [96/100], Training Loss: 0.1657, Training Accuracy: 81.28%, Validation Loss: 0.6698, Validation Accuracy: 65.12%\n",
            "Epoch [97/100], Training Loss: 0.1729, Training Accuracy: 83.25%, Validation Loss: 0.6212, Validation Accuracy: 65.12%\n",
            "Epoch [98/100], Training Loss: 0.1816, Training Accuracy: 85.71%, Validation Loss: 0.5951, Validation Accuracy: 67.44%\n",
            "Epoch [99/100], Training Loss: 0.1635, Training Accuracy: 90.64%, Validation Loss: 0.5913, Validation Accuracy: 67.44%\n",
            "Epoch [100/100], Training Loss: 0.1982, Training Accuracy: 86.21%, Validation Loss: 0.5988, Validation Accuracy: 67.44%\n"
          ]
        }
      ]
    },
    {
      "cell_type": "code",
      "source": [
        "fig, ax = plt.subplots(1,2, figsize=(8,4))\n",
        "x = range(1,len(train_losses)+1)\n",
        "ax[0].set_title('Training and Validation Loss')\n",
        "ax[0].plot(x, train_losses, label='Training')\n",
        "ax[0].plot(x, val_losses, label='Validation')\n",
        "ax[0].legend()\n",
        "ax[1].set_title('Training and Validation Accuracy')\n",
        "ax[1].plot(x, train_accs, label='Training')\n",
        "ax[1].plot(x, val_accs, label='Validation')\n",
        "ax[1].legend()"
      ],
      "metadata": {
        "colab": {
          "base_uri": "https://localhost:8080/",
          "height": 408
        },
        "id": "df_nNVpqA6m5",
        "outputId": "a01f0525-9965-46fe-9db5-ca3b63082962"
      },
      "execution_count": 70,
      "outputs": [
        {
          "output_type": "execute_result",
          "data": {
            "text/plain": [
              "<matplotlib.legend.Legend at 0x7f7f370283d0>"
            ]
          },
          "metadata": {},
          "execution_count": 70
        },
        {
          "output_type": "display_data",
          "data": {
            "text/plain": [
              "<Figure size 800x400 with 2 Axes>"
            ],
            "image/png": "[encoded data removed]"
          },
          "metadata": {}
        }
      ]
    },
    {
      "cell_type": "code",
      "source": [
        "def Test_PASCAL_model(model, test_dataloader):\n",
        "  \"\"\"Test model on test dataset and returns predictions and targets\"\"\"\n",
        "  model.eval()\n",
        "  device = torch.device(\"cuda\" if torch.cuda.is_available() else \"cpu\")\n",
        "  model.to(device)\n",
        "  test_loss = 0.0\n",
        "  test_correct = 0\n",
        "  target = []\n",
        "  prediction = []\n",
        "  with torch.no_grad():\n",
        "    for data, labels in test_dataloader:\n",
        "      labels = labels.type(torch.LongTensor)\n",
        "      data, labels = data.to(device), labels.to(device)\n",
        "      output_logits = model(data)\n",
        "      pred = torch.softmax(output_logits, dim=1)\n",
        "      pred = pred.argmax(dim=1)\n",
        "      prediction.append(pred.cpu().tolist())\n",
        "      target.append(labels.cpu().tolist())\n",
        "  target = np.hstack(target)\n",
        "  prediction = np.hstack(prediction)\n",
        "\n",
        "  return target, prediction"
      ],
      "metadata": {
        "id": "z26h0m2CnDJ9"
      },
      "execution_count": 71,
      "outputs": []
    },
    {
      "cell_type": "code",
      "source": [
        "# Load pretrained model\n",
        "pretrained_model = HeartSoundClassifier2()\n",
        "pretrained_model.load_state_dict(torch.load('/content/drive/MyDrive/Colab Notebooks/ML for Medication Apps/Project/physionet_model.pt'))\n",
        "cnn = pretrained_model.cnn_layers\n",
        "\n",
        "PASCAL_model = PASCALClassifier(cnn)\n",
        "PASCAL_model.load_state_dict(torch.load('/content/drive/MyDrive/Colab Notebooks/ML for Medication Apps/Project/pascal_model.pt'))\n",
        "y_true, y_pred = Test_PASCAL_model(PASCAL_model, test_loader)"
      ],
      "metadata": {
        "id": "QOLm16fZ6qK9"
      },
      "execution_count": 72,
      "outputs": []
    },
    {
      "cell_type": "code",
      "source": [
        "print('\\nClassification Report:')\n",
        "print(classification_report(y_true, y_pred, target_names=label_encoder.classes_))\n",
        "\n",
        "confusion_mtx = confusion_matrix(y_true, y_pred)\n",
        "sns.heatmap(confusion_mtx, annot=True, fmt='d', xticklabels=label_encoder.classes_, yticklabels=label_encoder.classes_)\n",
        "plt.xlabel('Predicted')\n",
        "plt.ylabel('True')\n",
        "plt.title('Confusion Matrix')\n",
        "plt.show()"
      ],
      "metadata": {
        "colab": {
          "base_uri": "https://localhost:8080/",
          "height": 798
        },
        "id": "uBHefD_V4x-Z",
        "outputId": "d5c2babd-20d1-4694-a90a-ba151dad34f2"
      },
      "execution_count": 73,
      "outputs": [
        {
          "output_type": "stream",
          "name": "stdout",
          "text": [
            "\n",
            "Classification Report:\n",
            "              precision    recall  f1-score   support\n",
            "\n",
            "  extrastole       0.00      0.00      0.00         8\n",
            "      murmur       0.83      0.56      0.67         9\n",
            "      normal       0.68      0.96      0.80        27\n",
            "\n",
            "    accuracy                           0.70        44\n",
            "   macro avg       0.51      0.51      0.49        44\n",
            "weighted avg       0.59      0.70      0.63        44\n",
            "\n"
          ]
        },
        {
          "output_type": "stream",
          "name": "stderr",
          "text": [
            "/usr/local/lib/python3.9/dist-packages/sklearn/metrics/_classification.py:1344: UndefinedMetricWarning: Precision and F-score are ill-defined and being set to 0.0 in labels with no predicted samples. Use `zero_division` parameter to control this behavior.\n",
            "  _warn_prf(average, modifier, msg_start, len(result))\n",
            "/usr/local/lib/python3.9/dist-packages/sklearn/metrics/_classification.py:1344: UndefinedMetricWarning: Precision and F-score are ill-defined and being set to 0.0 in labels with no predicted samples. Use `zero_division` parameter to control this behavior.\n",
            "  _warn_prf(average, modifier, msg_start, len(result))\n",
            "/usr/local/lib/python3.9/dist-packages/sklearn/metrics/_classification.py:1344: UndefinedMetricWarning: Precision and F-score are ill-defined and being set to 0.0 in labels with no predicted samples. Use `zero_division` parameter to control this behavior.\n",
            "  _warn_prf(average, modifier, msg_start, len(result))\n"
          ]
        },
        {
          "output_type": "display_data",
          "data": {
            "text/plain": [
              "<Figure size 640x480 with 2 Axes>"
            ],
            "image/png": "[encoded data removed]"
          },
          "metadata": {}
        }
      ]
    },
    {
      "cell_type": "code",
      "source": [
        "recall = metrics.recall_score(y_true,y_pred, average=None)\n",
        "precision = metrics.precision_score(y_true,y_pred, average=None)\n",
        "accuracy = metrics.accuracy_score(y_true,y_pred)\n",
        "f1_score = metrics.f1_score(y_true,y_pred, average=None)\n",
        "\n",
        "for i,class_name in enumerate(label_encoder.classes_):\n",
        "  print(f\"{class_name} Test metrics:\\n\\tRecall-rate: {recall[i]:.4f}\\n\\tPrecision: {precision[i]:.4f}\"\n",
        "       +f\"\\n\\tF1-Score: {f1_score[i]:.4f}\")\n",
        "  \n",
        "print(f\"Overall accuracy: {accuracy:.4f}\")"
      ],
      "metadata": {
        "colab": {
          "base_uri": "https://localhost:8080/"
        },
        "id": "gYpF2Jkd41jf",
        "outputId": "ec8200f1-5ef3-4d50-b2c9-6f1333451bac"
      },
      "execution_count": 75,
      "outputs": [
        {
          "output_type": "stream",
          "name": "stdout",
          "text": [
            "extrastole Test metrics:\n",
            "\tRecall-rate: 0.0000\n",
            "\tPrecision: 0.0000\n",
            "\tF1-Score: 0.0000\n",
            "murmur Test metrics:\n",
            "\tRecall-rate: 0.5556\n",
            "\tPrecision: 0.8333\n",
            "\tF1-Score: 0.6667\n",
            "normal Test metrics:\n",
            "\tRecall-rate: 0.9630\n",
            "\tPrecision: 0.6842\n",
            "\tF1-Score: 0.8000\n",
            "Overall accuracy: 0.7045\n"
          ]
        },
        {
          "output_type": "stream",
          "name": "stderr",
          "text": [
            "/usr/local/lib/python3.9/dist-packages/sklearn/metrics/_classification.py:1344: UndefinedMetricWarning: Precision is ill-defined and being set to 0.0 in labels with no predicted samples. Use `zero_division` parameter to control this behavior.\n",
            "  _warn_prf(average, modifier, msg_start, len(result))\n"
          ]
        }
      ]
    },
    {
      "cell_type": "code",
      "source": [],
      "metadata": {
        "id": "Q8G6t9oJ8gpa"
      },
      "execution_count": 74,
      "outputs": []
    }
  ]
}