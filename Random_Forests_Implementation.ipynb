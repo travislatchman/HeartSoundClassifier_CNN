{
  "nbformat": 4,
  "nbformat_minor": 0,
  "metadata": {
    "colab": {
      "provenance": [],
      "authorship_tag": "ABX9TyN9CjLNdFuQHjefA/V/0DHS",
      "include_colab_link": true
    },
    "kernelspec": {
      "name": "python3",
      "display_name": "Python 3"
    },
    "language_info": {
      "name": "python"
    }
  },
  "cells": [
    {
      "cell_type": "markdown",
      "metadata": {
        "id": "view-in-github",
        "colab_type": "text"
      },
      "source": [
        "<a href=\"https://colab.research.google.com/github/travislatchman/TheHearts/blob/main/Random_Forests_Implementation.ipynb\" target=\"_parent\"><img src=\"https://colab.research.google.com/assets/colab-badge.svg\" alt=\"Open In Colab\"/></a>"
      ]
    },
    {
      "cell_type": "code",
      "source": [
        "import numpy as np\n",
        "from sklearn.ensemble import RandomForestClassifier\n",
        "from sklearn.model_selection import train_test_split\n",
        "from sklearn.metrics import classification_report"
      ],
      "metadata": {
        "id": "m4l-eAMcVmc4"
      },
      "execution_count": null,
      "outputs": []
    },
    {
      "cell_type": "code",
      "source": [
        "# Load features and labels for dataset\n",
        "# features: list of tuples containing extracted features (e.g., MFCCs, chroma, spectral contrast) for each audio file\n",
        "# labels: list of corresponding labels for each audio file (e.g., 'normal', 'murmur', etc.)\n",
        "features = ...\n",
        "labels = ..."
      ],
      "metadata": {
        "id": "A80K6VVAVpPB"
      },
      "execution_count": null,
      "outputs": []
    },
    {
      "cell_type": "code",
      "source": [
        "# Combine and reshape the features into a 2D array\n",
        "combined_features = np.hstack([np.vstack(f) for f in features])"
      ],
      "metadata": {
        "id": "XdourrHwVvvq"
      },
      "execution_count": null,
      "outputs": []
    },
    {
      "cell_type": "code",
      "source": [
        "# Split the data into training (80%) and validation (20%) sets\n",
        "X_train, X_val, y_train, y_val = train_test_split(combined_features, labels, test_size=0.2, random_state=42)"
      ],
      "metadata": {
        "id": "7R9vbfEeVyMU"
      },
      "execution_count": null,
      "outputs": []
    },
    {
      "cell_type": "code",
      "execution_count": null,
      "metadata": {
        "id": "Dv996qR6UfOe"
      },
      "outputs": [],
      "source": [
        "# Train a RandomForest classifier\n",
        "clf = RandomForestClassifier(n_estimators=100, random_state=42)\n",
        "clf.fit(X_train, y_train)\n",
        "\n",
        "# Validate the classifier\n",
        "y_pred = clf.predict(X_val)\n",
        "\n",
        "# Print the classification report\n",
        "print(classification_report(y_val, y_pred))"
      ]
    }
  ]
}