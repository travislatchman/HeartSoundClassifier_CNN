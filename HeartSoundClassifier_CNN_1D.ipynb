{
  "cells": [
    {
      "cell_type": "code",
      "execution_count": null,
      "metadata": {
        "id": "b0aMnZJYWXIw"
      },
      "outputs": [],
      "source": [
        "import os\n",
        "import torch\n",
        "import librosa\n",
        "import numpy as np\n",
        "from torch import nn\n",
        "from torch.utils.data import Dataset, DataLoader, random_split\n",
        "from scipy.signal import butter, lfilter\n",
        "import scipy.io\n",
        "from collections import defaultdict\n",
        "from sklearn.preprocessing import LabelEncoder\n",
        "from sklearn.metrics import classification_report, confusion_matrix\n",
        "import seaborn as sns\n",
        "import matplotlib.pyplot as plt\n",
        "from collections import Counter\n",
        "import sklearn.metrics as metrics\n",
        "from torchsummary import summary\n",
        "\n",
        "seed = 1\n",
        "np.random.seed(seed)\n",
        "rng = np.random.default_rng(seed) # seeded random number generator"
      ]
    },
    {
      "cell_type": "markdown",
      "metadata": {
        "id": "7kycKlr4xKbR"
      },
      "source": [
        "### Preprocessing functions"
      ]
    },
    {
      "cell_type": "code",
      "execution_count": null,
      "metadata": {
        "id": "-ZvEYAZyxHwO"
      },
      "outputs": [],
      "source": [
        "# Preprocessing functions\n",
        "def load_audio_file(file_path, target_sample_rate = 2000):\n",
        "    audio_data, sample_rate = librosa.load(file_path, sr=target_sample_rate)\n",
        "    if (sample_rate - target_sample_rate)**2 > 100:\n",
        "      audio_data, sample_rate = librosa.load(file_path, sr=2000)\n",
        "    return audio_data, sample_rate"
      ]
    },
    {
      "cell_type": "code",
      "execution_count": null,
      "metadata": {
        "id": "qd8pDBNwxRWl"
      },
      "outputs": [],
      "source": [
        "def butter_lowpass(cutoff, fs, order=5):\n",
        "    nyq = 0.5 * fs\n",
        "    normal_cutoff = cutoff / nyq\n",
        "    b, a = butter(order, normal_cutoff, btype='low', analog=False)\n",
        "    return b, a"
      ]
    },
    {
      "cell_type": "code",
      "execution_count": null,
      "metadata": {
        "id": "vUT1hc-yxTPt"
      },
      "outputs": [],
      "source": [
        "def butter_lowpass_filter(data, cutoff, fs, order=5):\n",
        "    b, a = butter_lowpass(cutoff, fs, order=order)\n",
        "    y = lfilter(b, a, data)\n",
        "    return y"
      ]
    },
    {
      "cell_type": "code",
      "execution_count": null,
      "metadata": {
        "id": "TpyPLUJGxVEf"
      },
      "outputs": [],
      "source": [
        "def apply_lowpass_filter(audio_data, sample_rate, cutoff=195):\n",
        "    filtered_data = butter_lowpass_filter(audio_data, cutoff, sample_rate)\n",
        "    return filtered_data"
      ]
    },
    {
      "cell_type": "code",
      "execution_count": null,
      "metadata": {
        "id": "E1PwiHTXxXc1"
      },
      "outputs": [],
      "source": [
        "def perform_fft(filtered_data):\n",
        "    fft_data = np.fft.fft(filtered_data)\n",
        "    return fft_data"
      ]
    },
    {
      "cell_type": "markdown",
      "metadata": {
        "id": "JFjcgThv1Gad"
      },
      "source": [
        "### Data Augmentation functions\n"
      ]
    },
    {
      "cell_type": "markdown",
      "metadata": {
        "id": "YRqOFJe_1mYz"
      },
      "source": [
        "##### Time Shifting - shift the audio signal by a random amount"
      ]
    },
    {
      "cell_type": "code",
      "execution_count": null,
      "metadata": {
        "id": "v-gK7f0V1KcC"
      },
      "outputs": [],
      "source": [
        "def time_shift(audio_data, sample_rate):\n",
        "    shift_amount = int(sample_rate * np.random.uniform(-0.1, 0.1))\n",
        "    shifted_data = np.roll(audio_data, shift_amount)\n",
        "    return shifted_data"
      ]
    },
    {
      "cell_type": "markdown",
      "metadata": {
        "id": "hkji_fKx1tAc"
      },
      "source": [
        "##### Pitch Shifting - Change the pitch of the audio signal by a random factor"
      ]
    },
    {
      "cell_type": "code",
      "execution_count": null,
      "metadata": {
        "id": "GPIdt85512Ab"
      },
      "outputs": [],
      "source": [
        "def pitch_shift(audio_data, sample_rate):\n",
        "    pitch_shift_amount = np.random.uniform(-1.0, 1.0)\n",
        "    shifted_data = librosa.effects.pitch_shift(audio_data, sr=sample_rate, n_steps=pitch_shift_amount)\n",
        "    return shifted_data"
      ]
    },
    {
      "cell_type": "markdown",
      "metadata": {
        "id": "uC9egwA6165j"
      },
      "source": [
        "##### Add Random Noise"
      ]
    },
    {
      "cell_type": "code",
      "execution_count": null,
      "metadata": {
        "id": "zR6gGgYk19LW"
      },
      "outputs": [],
      "source": [
        "def add_noise(audio_data):\n",
        "    noise_level = np.random.uniform(0.005, 0.05)\n",
        "    noise = np.random.randn(len(audio_data)) * noise_level\n",
        "    noisy_data = audio_data + noise # adds noise ~ normal(mean=0, std=noise_level)\n",
        "    return noisy_data"
      ]
    },
    {
      "cell_type": "markdown",
      "metadata": {
        "id": "kl87moFrx4lt"
      },
      "source": [
        "### Building Dataset"
      ]
    },
    {
      "cell_type": "code",
      "execution_count": null,
      "metadata": {
        "id": "WdNHHOeK2h2o"
      },
      "outputs": [],
      "source": [
        "class HeartSoundDataset(Dataset):\n",
        "    def __init__(self, file_paths, labels, num_output_samples, transform=None, weights=None, augmentation=False):\n",
        "        self.file_paths = file_paths\n",
        "        if torch.is_tensor(labels):\n",
        "          self.labels = labels\n",
        "        else:\n",
        "          self.labels = torch.from_numpy(labels).float()\n",
        "        self.transform = transform\n",
        "        self.num_output_samples = num_output_samples\n",
        "        self.weights = weights\n",
        "        self.augmentation = augmentation\n",
        "\n",
        "    def __len__(self):\n",
        "        return len(self.file_paths)\n",
        "\n",
        "    def __getitem__(self, idx):\n",
        "        # file_path = self.file_paths[idx]\n",
        "        # audio_data, sample_rate = load_audio_file(file_path)\n",
        "        # file_paths is an array of all recordings\n",
        "        audio_data = self.file_paths[idx]\n",
        "        sample_rate = 2000\n",
        "        # Apply data augmentation techniques if the augmentation parameter is set to True\n",
        "        if self.augmentation:\n",
        "            audio_data = time_shift(audio_data, sample_rate)\n",
        "            audio_data = pitch_shift(audio_data, sample_rate)\n",
        "            audio_data = add_noise(audio_data)\n",
        "\n",
        "        filtered_data = apply_lowpass_filter(audio_data, sample_rate)\n",
        "        fft_data = perform_fft(filtered_data)\n",
        "\n",
        "        # Use only the real part of the FFT data\n",
        "        real_fft_data = np.real(fft_data)\n",
        "\n",
        "        # Normalize data\n",
        "        normalized_data = (real_fft_data - np.min(real_fft_data)) / (np.max(real_fft_data) - np.min(real_fft_data))\n",
        "\n",
        "        if self.transform:\n",
        "            normalized_data = self.transform(normalized_data)\n",
        "\n",
        "        label = self.labels[idx]\n",
        "\n",
        "        if self.weights:\n",
        "          weight = self.weights[idx]\n",
        "          return torch.tensor(normalized_data[:self.num_output_samples]).float(), label, weight\n",
        "\n",
        "        return torch.tensor(normalized_data[:self.num_output_samples]).float(), label\n",
        "\n"
      ]
    },
    {
      "cell_type": "code",
      "execution_count": null,
      "metadata": {
        "id": "g8JWv0S23NX1"
      },
      "outputs": [],
      "source": [
        "def create_dataloaders(file_paths, labels, weights, max_num_samples, train_ratio=0.7, val_ratio=0.15, test_ratio=0.15, batch_size=100, augmentation=True):\n",
        "    dataset_size = len(file_paths)\n",
        "    train_size = int(train_ratio * dataset_size)\n",
        "    val_size = int(val_ratio * dataset_size)\n",
        "    test_size = dataset_size - train_size - val_size\n",
        "\n",
        "    dataset = HeartSoundDataset(file_paths, labels, max_num_samples)\n",
        "    train_set, val_set, test_set = random_split(dataset, [train_size, val_size, test_size],) # generator=rng) - used for training\n",
        "\n",
        "    # Apply data augmentation only to the training dataset\n",
        "    train_set.dataset = HeartSoundDataset(train_set.dataset.file_paths, train_set.dataset.labels, \n",
        "                                          train_set.dataset.num_output_samples, weights=weights, augmentation=augmentation)\n",
        "\n",
        "    train_loader = DataLoader(train_set, batch_size=batch_size, shuffle=True)\n",
        "    val_loader = DataLoader(val_set, batch_size=batch_size, shuffle=False)\n",
        "    test_loader = DataLoader(test_set, batch_size=batch_size, shuffle=False)\n",
        "\n",
        "    return train_loader, val_loader, test_loader\n"
      ]
    },
    {
      "cell_type": "markdown",
      "metadata": {
        "id": "zl_1HYalyBFs"
      },
      "source": [
        "### Heart Sound Classifier"
      ]
    },
    {
      "cell_type": "markdown",
      "metadata": {
        "id": "6Q-2DnWtPf-M"
      },
      "source": [
        "### Classifier with Dropout and Regularization"
      ]
    },
    {
      "cell_type": "code",
      "execution_count": null,
      "metadata": {
        "id": "DNCWVKuYPkmU"
      },
      "outputs": [],
      "source": [
        "# class HeartSoundClassifier(nn.Module):\n",
        "#     def __init__(self, input_size, num_classes):\n",
        "#         super(HeartSoundClassifier, self).__init__()\n",
        "#         self.cnn_layers = nn.Sequential(\n",
        "#             # 1st Conv\n",
        "#             nn.Conv1d(1, 8, kernel_size=19, stride=1),\n",
        "#             nn.BatchNorm1d(8), # BATCH \n",
        "#             nn.ReLU(),\n",
        "#             nn.MaxPool1d(16),\n",
        "#             nn.Dropout(0.5), # DROPOUT\n",
        "        \n",
        "#             # 2nd Conv\n",
        "#             nn.Conv1d(8, 16, kernel_size=19, stride=1),\n",
        "#             nn.BatchNorm1d(16),\n",
        "#             nn.ReLU(),\n",
        "#             nn.MaxPool1d(16),\n",
        "#             nn.Dropout(0.5),\n",
        "#         )\n",
        "#         self.classifier = nn.Sequential(\n",
        "#             nn.Flatten(),\n",
        "#             nn.Linear(528, 32),\n",
        "#             nn.ReLU(),\n",
        "#             nn.Dropout(0.5),\n",
        "\n",
        "#             nn.Linear(32, 1) # Single logit to feed into Sigmoid\n",
        "#             # self.softmax = nn.Softmax(0)\n",
        "#         )\n",
        "\n",
        "#     def forward(self, x):\n",
        "#         x = x.unsqueeze(1)\n",
        "#         x = self.cnn_layers(x)\n",
        "#         x = self.classifier(x)\n",
        "#         return x"
      ]
    },
    {
      "cell_type": "code",
      "source": [
        "class HeartSoundClassifier2(nn.Module):\n",
        "    def __init__(self):\n",
        "        super(HeartSoundClassifier2, self).__init__()\n",
        "        self.cnn_layers = nn.Sequential(\n",
        "            # 1st Conv Layer\n",
        "            nn.Conv1d(1, 8, kernel_size=5, stride=1),\n",
        "            nn.BatchNorm1d(8),\n",
        "            nn.ReLU(),\n",
        "            nn.MaxPool1d(2),\n",
        "            # 2nd Conv Layer\n",
        "            nn.Conv1d(8, 4, kernel_size=5, stride=1),\n",
        "            nn.BatchNorm1d(4),\n",
        "            nn.ReLU(),\n",
        "            nn.MaxPool1d(2),\n",
        "            nn.Dropout(0.25)\n",
        "        )\n",
        "        self.classifier = nn.Sequential(\n",
        "          nn.Flatten(),\n",
        "          nn.Linear(4*2247, 32),\n",
        "          nn.Dropout(0.5),\n",
        "          nn.ReLU(),\n",
        "          nn.Linear(32, 1)\n",
        "        )\n",
        "\n",
        "    def forward(self, x):\n",
        "        x = x.unsqueeze(1)\n",
        "        x = self.cnn_layers(x)\n",
        "        x = self.classifier(x)\n",
        "        return x"
      ],
      "metadata": {
        "id": "Q5NQYEuTOklr"
      },
      "execution_count": null,
      "outputs": []
    },
    {
      "cell_type": "code",
      "execution_count": null,
      "metadata": {
        "id": "mxGqC-qO5nAR"
      },
      "outputs": [],
      "source": [
        "def write_prepped_audio(label_dir, file_name, audio_sample_len, target_sample_rate = 2000):\n",
        "  if file_name[-4:] != \".wav\": return None, None\n",
        "\n",
        "  if not os.path.exists(os.path.join(label_dir, \"prepped_audio\")):\n",
        "    os.makedirs(os.path.join(label_dir, \"prepped_audio\"))\n",
        "  new_file_path = os.path.join(label_dir, \"prepped_audio\", file_name)\n",
        "  if os.path.exists(new_file_path): return new_file_path, load_audio_file(new_file_path, target_sample_rate)[0]\n",
        "\n",
        "  audio_data, sample_rate = load_audio_file(os.path.join(label_dir, file_name), target_sample_rate)\n",
        "\n",
        "  # if audio_data is shorter than 1/3 the target audio sample length, return None\n",
        "  # else, pad with zeros\n",
        "  if len(audio_data) < audio_sample_len/3:\n",
        "    return None, None\n",
        "  elif len(audio_data) < audio_sample_len:\n",
        "    audio_data = np.concatenate((audio_data, np.zeros(audio_sample_len)), dtype=np.float32)\n",
        "  scipy.io.wavfile.write(new_file_path, sample_rate, audio_data[:audio_sample_len])\n",
        "  return new_file_path, audio_data[:audio_sample_len]"
      ]
    },
    {
      "cell_type": "markdown",
      "metadata": {
        "id": "ru7SmQPFzG32"
      },
      "source": [
        "# Training, Validation, Testing"
      ]
    },
    {
      "cell_type": "code",
      "execution_count": null,
      "metadata": {
        "colab": {
          "base_uri": "https://localhost:8080/"
        },
        "id": "keGkVuaGQqnH",
        "outputId": "f3c5ae94-097b-4250-b0e6-2dd7fc204ded"
      },
      "outputs": [
        {
          "output_type": "stream",
          "name": "stdout",
          "text": [
            "Mounted at /content/drive\n"
          ]
        }
      ],
      "source": [
        "from google.colab import drive\n",
        "drive.mount('/content/drive')"
      ]
    },
    {
      "cell_type": "code",
      "execution_count": null,
      "metadata": {
        "id": "z4RSLt6Yyk5S"
      },
      "outputs": [],
      "source": [
        "# Load data and create data loaders\n",
        "\n",
        "data_dir_phys1 = '/content/drive/MyDrive/MLMA Group/CardiacData/physionet cardiac sounds/heart_sound/train'\n",
        "label_encoder_phys1 = LabelEncoder()\n",
        "\n",
        "file_paths_phys1 = [] # phys1 = physionet dataset 1\n",
        "labels_phys1 = []\n",
        "audio_sample_len = 9000\n",
        "target_sample_rate = 2000\n",
        "data_phys1 = []\n",
        "data_array_phys1 = np.zeros((4000, audio_sample_len))\n",
        "data_array_phys1_ind = 0\n",
        "\n",
        "for label in os.listdir(data_dir_phys1):\n",
        "  label_dir = os.path.join(data_dir_phys1, label)\n",
        "  for file_name in os.listdir(label_dir):\n",
        "    new_file_path, audio_data = write_prepped_audio(label_dir, file_name, audio_sample_len, target_sample_rate)\n",
        "    if new_file_path is not None:\n",
        "      file_paths_phys1.append(new_file_path)\n",
        "      labels_phys1.append(label)\n",
        "      # audio_data, _ = load_audio_file(new_file_path)\n",
        "      # Store all recordings into a list\n",
        "      # data_phys1.append(audio_data[:audio_sample_len])\n",
        "      data_array_phys1[data_array_phys1_ind, :] = audio_data[:audio_sample_len]\n",
        "      data_array_phys1_ind += 1\n",
        "# data_array_phys1 = np.vstack(data_phys1)\n",
        "data_array_phys1 = data_array_phys1[:data_array_phys1_ind, :]\n",
        "encoded_labels_phys1 = label_encoder_phys1.fit_transform(labels_phys1)\n",
        "\n",
        "# Create weights for unbalanced dataset\n",
        "class_counts = dict(Counter(labels_phys1))\n",
        "class_weights = [class_counts['healthy']/len(labels_phys1), class_counts['unhealthy']/len(labels_phys1)]\n",
        "weights = list()\n",
        "for label in encoded_labels_phys1:\n",
        "  weights.append(class_weights[label])\n",
        "\n",
        "train_loader, val_loader, test_loader = create_dataloaders(data_array_phys1, encoded_labels_phys1, weights, audio_sample_len, augmentation=False)"
      ]
    },
    {
      "cell_type": "code",
      "execution_count": null,
      "metadata": {
        "id": "P_UyDLT0y0Ou",
        "colab": {
          "base_uri": "https://localhost:8080/"
        },
        "outputId": "4bcedea2-6195-48ef-bf41-e90cec2a5cc9"
      },
      "outputs": [
        {
          "output_type": "stream",
          "name": "stdout",
          "text": [
            "----------------------------------------------------------------\n",
            "        Layer (type)               Output Shape         Param #\n",
            "================================================================\n",
            "            Conv1d-1              [-1, 8, 8996]              48\n",
            "       BatchNorm1d-2              [-1, 8, 8996]              16\n",
            "              ReLU-3              [-1, 8, 8996]               0\n",
            "         MaxPool1d-4              [-1, 8, 4498]               0\n",
            "            Conv1d-5              [-1, 4, 4494]             164\n",
            "       BatchNorm1d-6              [-1, 4, 4494]               8\n",
            "              ReLU-7              [-1, 4, 4494]               0\n",
            "         MaxPool1d-8              [-1, 4, 2247]               0\n",
            "           Dropout-9              [-1, 4, 2247]               0\n",
            "          Flatten-10                 [-1, 8988]               0\n",
            "           Linear-11                   [-1, 32]         287,648\n",
            "          Dropout-12                   [-1, 32]               0\n",
            "             ReLU-13                   [-1, 32]               0\n",
            "           Linear-14                    [-1, 1]              33\n",
            "================================================================\n",
            "Total params: 287,917\n",
            "Trainable params: 287,917\n",
            "Non-trainable params: 0\n",
            "----------------------------------------------------------------\n",
            "Input size (MB): 0.03\n",
            "Forward/backward pass size (MB): 2.54\n",
            "Params size (MB): 1.10\n",
            "Estimated Total Size (MB): 3.67\n",
            "----------------------------------------------------------------\n"
          ]
        }
      ],
      "source": [
        "# Initialize the model, loss function, and optimizer\n",
        "model_phys1 = HeartSoundClassifier2()\n",
        "criterion_BCE = nn.BCEWithLogitsLoss(reduction='none')\n",
        "optimizer_phys1 = torch.optim.Adam(model_phys1.parameters(), lr=0.0007, weight_decay=1e-5)\n",
        "\n",
        "summary(model_phys1.cuda(), input_size=(9000,))"
      ]
    },
    {
      "cell_type": "markdown",
      "metadata": {
        "id": "_PZV-8O26OuG"
      },
      "source": [
        "### Train model, with Early Stopping"
      ]
    },
    {
      "cell_type": "code",
      "execution_count": null,
      "metadata": {
        "id": "HSWPy27Z6Tou",
        "colab": {
          "base_uri": "https://localhost:8080/"
        },
        "outputId": "e9ba4e50-7ee8-4bf4-9309-3eee34a1316e"
      },
      "outputs": [
        {
          "output_type": "stream",
          "name": "stdout",
          "text": [
            "Epoch [1/100], Training Loss: 0.2466, Training Accuracy: 74.43%, Validation Loss: 0.4816, Validation Accuracy: 80.66%\n",
            "Epoch [2/100], Training Loss: 0.1549, Training Accuracy: 79.76%, Validation Loss: 0.5071, Validation Accuracy: 80.66%\n",
            "Epoch [3/100], Training Loss: 0.1436, Training Accuracy: 79.94%, Validation Loss: 0.5011, Validation Accuracy: 80.66%\n",
            "Epoch [4/100], Training Loss: 0.1359, Training Accuracy: 80.25%, Validation Loss: 0.4681, Validation Accuracy: 80.66%\n",
            "Epoch [5/100], Training Loss: 0.1316, Training Accuracy: 80.91%, Validation Loss: 0.3970, Validation Accuracy: 81.89%\n",
            "Epoch [6/100], Training Loss: 0.1213, Training Accuracy: 81.13%, Validation Loss: 0.4186, Validation Accuracy: 82.10%\n",
            "Epoch [7/100], Training Loss: 0.1183, Training Accuracy: 81.75%, Validation Loss: 0.3920, Validation Accuracy: 83.54%\n",
            "Epoch [8/100], Training Loss: 0.1199, Training Accuracy: 82.50%, Validation Loss: 0.4244, Validation Accuracy: 82.30%\n",
            "Epoch [9/100], Training Loss: 0.1150, Training Accuracy: 82.89%, Validation Loss: 0.4141, Validation Accuracy: 83.33%\n",
            "Epoch [10/100], Training Loss: 0.1122, Training Accuracy: 83.55%, Validation Loss: 0.4184, Validation Accuracy: 82.72%\n",
            "Epoch [11/100], Training Loss: 0.1099, Training Accuracy: 82.36%, Validation Loss: 0.3736, Validation Accuracy: 85.39%\n",
            "Epoch [12/100], Training Loss: 0.1068, Training Accuracy: 83.73%, Validation Loss: 0.3875, Validation Accuracy: 83.74%\n",
            "Epoch [13/100], Training Loss: 0.1064, Training Accuracy: 84.26%, Validation Loss: 0.4157, Validation Accuracy: 85.19%\n",
            "Epoch [14/100], Training Loss: 0.1053, Training Accuracy: 83.60%, Validation Loss: 0.4881, Validation Accuracy: 84.57%\n",
            "Epoch [15/100], Training Loss: 0.1015, Training Accuracy: 84.61%, Validation Loss: 0.4005, Validation Accuracy: 85.39%\n",
            "Epoch [16/100], Training Loss: 0.1014, Training Accuracy: 84.48%, Validation Loss: 0.3840, Validation Accuracy: 87.04%\n",
            "Early stopping triggered after 16 epochs\n"
          ]
        }
      ],
      "source": [
        "# Set early stopping parameters\n",
        "patience = 5\n",
        "min_delta = 0.01\n",
        "num_epochs = 100\n",
        "\n",
        "def train_model(model, train_loader, val_loader, optimizer, criterion, num_epochs=10, classifier_threshold=0.5, patience=5, min_delta=0.001):\n",
        "  train_losses = []\n",
        "  val_losses = []\n",
        "  train_accs = []\n",
        "  val_accs = []\n",
        "\n",
        "  device = torch.device(\"cuda\" if torch.cuda.is_available() else \"cpu\")\n",
        "  model.to(device)\n",
        "\n",
        "  # Initialize variables to track best validation loss and epochs without improvement\n",
        "  best_val_loss = float('inf')\n",
        "  epochs_without_improvement = 0\n",
        "\n",
        "  for epoch in range(num_epochs):\n",
        "    # Train the model\n",
        "    model.train()\n",
        "    train_loss = 0.0\n",
        "    train_correct = 0\n",
        "    for batch_num, (data, labels, weights) in enumerate(train_loader):\n",
        "      data, labels, weights = data.to(device), labels.to(device), weights.to(device)\n",
        "      optimizer.zero_grad()\n",
        "      output_logits = model(data)[:,0]\n",
        "      intermediate_loss = criterion(output_logits, labels)\n",
        "      loss = torch.mean(weights*intermediate_loss)\n",
        "      loss.backward()\n",
        "      optimizer.step()\n",
        "      train_loss += loss.item() * data.shape[0]\n",
        "      pred = nn.Sigmoid()(output_logits)\n",
        "      pred = torch.where(pred > classifier_threshold, 1, 0)\n",
        "      train_correct += (pred == labels).long().sum().item()\n",
        "\n",
        "    # Compute training accuracy and loss\n",
        "    train_acc = 100 * train_correct / len(train_loader.dataset)\n",
        "    train_loss /= len(train_loader.dataset)\n",
        "    train_accs.append(train_acc)\n",
        "    train_losses.append(train_loss)\n",
        "\n",
        "    # Validate the model\n",
        "    model.eval()\n",
        "    val_loss = 0.0\n",
        "    val_correct = 0\n",
        "    with torch.no_grad():\n",
        "      for data, labels in val_loader:\n",
        "        data, labels = data.to(device), labels.to(device)\n",
        "        output_logits = model(data)[:,0]\n",
        "        intermediate_loss = criterion(output_logits, labels)\n",
        "        loss = torch.mean(intermediate_loss)\n",
        "        val_loss += loss.item() * data.shape[0]\n",
        "        pred = nn.Sigmoid()(output_logits)\n",
        "        pred = torch.where(pred > classifier_threshold, 1, 0)\n",
        "        val_correct += (pred==labels).long().sum().item()\n",
        "\n",
        "    # Compute validation accuracy and loss\n",
        "    val_acc = 100 * val_correct / len(val_loader.dataset)\n",
        "    val_loss /= len(val_loader.dataset)\n",
        "    val_accs.append(val_acc)\n",
        "    val_losses.append(val_loss)\n",
        "\n",
        "    print(f'Epoch [{epoch+1}/{num_epochs}], Training Loss: {train_loss:.4f}, Training Accuracy: {train_acc:.2f}%, Validation Loss: {val_loss:.4f}, Validation Accuracy: {val_acc:.2f}%')\n",
        "\n",
        "    if val_loss < best_val_loss:\n",
        "      best_val_loss = val_loss\n",
        "      epochs_without_improvement = 0\n",
        "\n",
        "    # Early stopping logic\n",
        "    elif (val_loss - best_val_loss) > min_delta:\n",
        "      epochs_without_improvement += 1\n",
        "      if epochs_without_improvement >= patience:\n",
        "        print(f'Early stopping triggered after {epoch+1} epochs')\n",
        "        torch.save(model.state_dict(),'/content/drive/MyDrive/MLMA Group/physionet_model2.pt')\n",
        "        return train_losses, train_accs, val_losses, val_accs\n",
        "    torch.save(model.state_dict(),'/content/drive/MyDrive/MLMA Group/physionet_model2.pt')\n",
        "  \n",
        "  return train_losses, train_accs, val_losses, val_accs\n",
        "\n",
        "train_losses, train_accs, val_losses, val_accs = train_model(model_phys1, train_loader, val_loader, optimizer_phys1, criterion_BCE, num_epochs, patience=patience, min_delta=min_delta)"
      ]
    },
    {
      "cell_type": "code",
      "execution_count": null,
      "metadata": {
        "id": "UznsNzb5mUi4",
        "colab": {
          "base_uri": "https://localhost:8080/",
          "height": 408
        },
        "outputId": "aa63cc6b-58b9-40d0-f55f-01c5c060eb19"
      },
      "outputs": [
        {
          "output_type": "execute_result",
          "data": {
            "text/plain": [
              "<matplotlib.legend.Legend at 0x7f943b57a580>"
            ]
          },
          "metadata": {},
          "execution_count": 21
        },
        {
          "output_type": "display_data",
          "data": {
            "text/plain": [
              "<Figure size 800x400 with 2 Axes>"
            ],
            "image/png": "[encoded data removed]"
          },
          "metadata": {}
        }
      ],
      "source": [
        "fig, ax = plt.subplots(1,2, figsize=(8,4))\n",
        "x = range(1,len(train_losses)+1)\n",
        "ax[0].set_title('Training and Validation Loss')\n",
        "ax[0].plot(x, train_losses, label='Training')\n",
        "ax[0].plot(x, val_losses, label='Validation')\n",
        "ax[0].legend()\n",
        "ax[1].set_title('Training and Validation Accuracy')\n",
        "ax[1].plot(x, train_accs, label='Training')\n",
        "ax[1].plot(x, val_accs, label='Validation')\n",
        "ax[1].legend()"
      ]
    },
    {
      "cell_type": "markdown",
      "metadata": {
        "id": "iSTHh8HA6VkL"
      },
      "source": [
        "### Train and Validate"
      ]
    },
    {
      "cell_type": "code",
      "execution_count": null,
      "metadata": {
        "id": "_p1mUc9smo4F"
      },
      "outputs": [],
      "source": [
        "def Test_model(model, test_dataloader, classifier_threshold=0.5):\n",
        "  \"\"\"Test model on test dataset and returns predictions and targets\"\"\"\n",
        "  model.eval()\n",
        "  device = torch.device(\"cuda\" if torch.cuda.is_available() else \"cpu\")\n",
        "  model.to(device)\n",
        "  test_loss = 0.0\n",
        "  test_correct = 0\n",
        "  target = []\n",
        "  prediction = []\n",
        "  with torch.no_grad():\n",
        "    for data, labels in test_dataloader:\n",
        "      data, labels = data.to(device), labels.to(device)\n",
        "      output_logits = model(data)[:,0]\n",
        "\n",
        "      pred = nn.Sigmoid()(output_logits)\n",
        "      pred = torch.where(pred > classifier_threshold, 1, 0)\n",
        "      prediction.append(pred.cpu().tolist())\n",
        "      target.append(labels.cpu().tolist())\n",
        "  target = np.hstack(target)\n",
        "  prediction = np.hstack(prediction)\n",
        "\n",
        "  return target, prediction"
      ]
    },
    {
      "cell_type": "code",
      "execution_count": null,
      "metadata": {
        "id": "V7lf_N-uy-zX"
      },
      "outputs": [],
      "source": [
        "# Test the model\n",
        "model = HeartSoundClassifier2()\n",
        "model.load_state_dict(torch.load('/content/drive/MyDrive/MLMA Group/physionet_model2.pt'))\n",
        "y_true, y_pred = Test_model(model, test_loader)\n"
      ]
    },
    {
      "cell_type": "code",
      "execution_count": null,
      "metadata": {
        "id": "2f0eOplQzA3I",
        "colab": {
          "base_uri": "https://localhost:8080/",
          "height": 663
        },
        "outputId": "09cb6a03-61f4-4cbb-d6cb-84e62598fd7d"
      },
      "outputs": [
        {
          "output_type": "stream",
          "name": "stdout",
          "text": [
            "\n",
            "Classification Report:\n",
            "              precision    recall  f1-score   support\n",
            "\n",
            "     healthy       0.84      0.98      0.91       375\n",
            "   unhealthy       0.86      0.38      0.53       111\n",
            "\n",
            "    accuracy                           0.84       486\n",
            "   macro avg       0.85      0.68      0.72       486\n",
            "weighted avg       0.85      0.84      0.82       486\n",
            "\n"
          ]
        },
        {
          "output_type": "display_data",
          "data": {
            "text/plain": [
              "<Figure size 640x480 with 2 Axes>"
            ],
            "image/png": "[encoded data removed]"
          },
          "metadata": {}
        }
      ],
      "source": [
        "# Evaluation metrics\n",
        "print('\\nClassification Report:')\n",
        "print(classification_report(y_true, y_pred, target_names=label_encoder_phys1.classes_))\n",
        "\n",
        "confusion_mtx = confusion_matrix(y_true, y_pred)\n",
        "sns.heatmap(confusion_mtx, annot=True, fmt='d', xticklabels=label_encoder_phys1.classes_, yticklabels=label_encoder_phys1.classes_)\n",
        "plt.xlabel('Predicted')\n",
        "plt.ylabel('True')\n",
        "plt.title('Confusion Matrix')\n",
        "plt.show()"
      ]
    },
    {
      "cell_type": "markdown",
      "metadata": {
        "id": "qf0sO-7y8cuT"
      },
      "source": [
        "### F1, Precision, Recall, Sensitivity, Specificity, TP, FP, TN, FN, plot and ROC curve and calculate AUC"
      ]
    },
    {
      "cell_type": "code",
      "execution_count": null,
      "metadata": {
        "id": "3ZMueyLwm4ow",
        "colab": {
          "base_uri": "https://localhost:8080/"
        },
        "outputId": "53fada1d-8ce4-4a5a-94c2-0613ba8cf7d8"
      },
      "outputs": [
        {
          "output_type": "stream",
          "name": "stdout",
          "text": [
            "Test metrics:\n",
            "\tRecall-rate: 0.3784\n",
            "\tPrecision: 0.8571\n",
            "\tAccuracy: 0.8436\n",
            "\tF1-Score: 0.5250\n"
          ]
        }
      ],
      "source": [
        "recall = metrics.recall_score(y_true,y_pred)\n",
        "precision = metrics.precision_score(y_true,y_pred)\n",
        "accuracy = metrics.accuracy_score(y_true,y_pred)\n",
        "f1_score = metrics.f1_score(y_true,y_pred)\n",
        "print(f\"Test metrics:\\n\\tRecall-rate: {recall:.4f}\\n\\tPrecision: {precision:.4f}\"\n",
        "      +f\"\\n\\tAccuracy: {accuracy:.4f}\\n\\tF1-Score: {f1_score:.4f}\")"
      ]
    },
    {
      "cell_type": "markdown",
      "metadata": {
        "id": "IX1kx7s1qPRy"
      },
      "source": [
        "# Transfer Learning"
      ]
    },
    {
      "cell_type": "code",
      "execution_count": null,
      "metadata": {
        "id": "p9cHYUntqP4W"
      },
      "outputs": [],
      "source": [
        "# Load DatasetB\n",
        "\n",
        "data_dir_dB = '/content/drive/MyDrive/MLMA Group/CardiacData/DatasetB'\n",
        "label_encoder_dB = LabelEncoder()\n",
        "\n",
        "file_paths_dB = [] # dB is PASCAL dataset B\n",
        "labels_dB = []\n",
        "data_dB = []\n",
        "\n",
        "for label in os.listdir(data_dir_dB):\n",
        "  label_dir = os.path.join(data_dir_dB, label)\n",
        "  for file_name in os.listdir(label_dir):\n",
        "    new_file_path, _ = write_prepped_audio(label_dir, file_name, audio_sample_len, target_sample_rate)\n",
        "    if new_file_path is not None:\n",
        "      file_paths_dB.append(new_file_path)\n",
        "      labels_dB.append(label)\n",
        "      audio_data, _ = load_audio_file(new_file_path)\n",
        "      # Store all recordings into a list\n",
        "      data_dB.append(audio_data[:audio_sample_len])\n",
        "\n",
        "data_array_dB = np.vstack(data_dB)\n",
        "encoded_labels = label_encoder_dB.fit_transform(labels_dB)\n"
      ]
    },
    {
      "cell_type": "code",
      "execution_count": null,
      "metadata": {
        "id": "PtCP3PIDqWpN"
      },
      "outputs": [],
      "source": [
        "# Create weights for unbalanced dataset\n",
        "class_counts = dict(Counter(labels_dB))\n",
        "classes = label_encoder_dB.classes_\n",
        "class_weights = [class_counts[classes[0]]/len(labels_dB), class_counts[classes[1]]/len(labels_dB), class_counts[classes[2]]/len(labels_dB)]\n",
        "\n",
        "train_loader, val_loader, test_loader = create_dataloaders(data_array_dB, encoded_labels, audio_sample_len, augmentation=False)"
      ]
    },
    {
      "cell_type": "code",
      "execution_count": null,
      "metadata": {
        "id": "yVLVuEM1qbIy"
      },
      "outputs": [],
      "source": [
        "class PASCALClassifier(nn.Module):\n",
        "    def __init__(self, pretrained_cnn):\n",
        "        super(PASCALClassifier, self).__init__()\n",
        "        self.cnn = pretrained_cnn\n",
        "        self.classifier = nn.Sequential(\n",
        "            nn.Flatten(),\n",
        "            nn.Linear(4*2247, 32),\n",
        "            nn.Dropout(0.5),\n",
        "            nn.ReLU(),\n",
        "            nn.Linear(32, 3)\n",
        "        )\n",
        "\n",
        "    def forward(self, x):\n",
        "        x = x.unsqueeze(1)\n",
        "        x = self.cnn(x)\n",
        "        x = self.classifier(x)\n",
        "        return x\n"
      ]
    },
    {
      "cell_type": "code",
      "execution_count": null,
      "metadata": {
        "id": "FnZ1B1yPqdkB"
      },
      "outputs": [],
      "source": [
        "# Load pretrained model\n",
        "pretrained_model = HeartSoundClassifier()\n",
        "pretrained_model.load_state_dict(torch.load('/content/drive/MyDrive/MLMA Group/physionet_model2.pt'))\n",
        "cnn = pretrained_model.cnn_layers\n",
        "\n",
        "# Freeze CNN layers\n",
        "for param in cnn.parameters():\n",
        "  param.requires_grad = False\n",
        "\n",
        "# Add new classification layers to tune\n",
        "PASCAL_model = PASCALClassifier(cnn)\n",
        "device = torch.device(\"cuda\" if torch.cuda.is_available() else \"cpu\")\n",
        "weights = torch.FloatTensor(class_weights).to(device)\n",
        "criterion = nn.CrossEntropyLoss(weight=weights)\n",
        "optimizer = torch.optim.Adam(PASCAL_model.classifier.parameters(), lr=0.0007, weight_decay=1e-5)\n",
        "summary(PASCAL_model.cuda(), input_size=(9000,))"
      ]
    },
    {
      "cell_type": "code",
      "execution_count": null,
      "metadata": {
        "id": "4yya1N0Pqvvd"
      },
      "outputs": [],
      "source": [
        "# Finetune classifier\n",
        "# Set early stopping parameters\n",
        "patience = 5\n",
        "min_delta = 0.01\n",
        "num_epochs = 100\n",
        "\n",
        "def tune_model(model, criterion, train_loader, val_loader, optimizer, num_epochs=10, patience=5, min_delta=0.001):\n",
        "  train_losses = []\n",
        "  val_losses = []\n",
        "  train_accs = []\n",
        "  val_accs = []\n",
        "\n",
        "  device = torch.device(\"cuda\" if torch.cuda.is_available() else \"cpu\")\n",
        "  model.to(device)\n",
        "\n",
        "  # Initialize variables to track best validation loss and epochs without improvement\n",
        "  best_val_loss = 0\n",
        "  epochs_without_improvement = 0\n",
        "\n",
        "  for epoch in range(num_epochs):\n",
        "    # Train the model\n",
        "    model.train()\n",
        "    train_loss = 0.0\n",
        "    train_correct = 0\n",
        "    for batch_num, (data, labels) in enumerate(train_loader):\n",
        "      labels = labels.type(torch.LongTensor)\n",
        "      data, labels = data.to(device), labels.to(device)\n",
        "      optimizer.zero_grad()\n",
        "      output_logits = model(data)\n",
        "      loss = criterion(output_logits, labels)\n",
        "      loss.backward()\n",
        "      optimizer.step()\n",
        "      train_loss += loss.item() * data.shape[0]\n",
        "      pred = torch.softmax(output_logits, dim=1)\n",
        "      pred = pred.argmax(dim=1)\n",
        "      train_correct += (pred == labels).long().sum().item()\n",
        "\n",
        "    # Compute training accuracy and loss\n",
        "    train_acc = 100 * train_correct / len(train_loader.dataset)\n",
        "    train_loss /= len(train_loader.dataset)\n",
        "    train_accs.append(train_acc)\n",
        "    train_losses.append(train_loss)\n",
        "\n",
        "    # Validate the model\n",
        "    model.eval()\n",
        "    val_loss = 0.0\n",
        "    val_correct = 0\n",
        "    with torch.no_grad():\n",
        "      for data, labels in val_loader:\n",
        "        labels = labels.type(torch.LongTensor)\n",
        "        data, labels = data.to(device), labels.to(device)\n",
        "        output_logits = model(data)\n",
        "        loss = criterion(output_logits, labels)\n",
        "        val_loss += loss.item() * data.shape[0]\n",
        "        pred = torch.softmax(output_logits, dim=1)\n",
        "        pred = pred.argmax(dim=1)\n",
        "        val_correct += (pred==labels).long().sum().item()\n",
        "\n",
        "    # Compute validation accuracy and loss\n",
        "    val_acc = 100 * val_correct / len(val_loader.dataset)\n",
        "    val_loss /= len(val_loader.dataset)\n",
        "    val_accs.append(val_acc)\n",
        "    val_losses.append(val_loss)\n",
        "\n",
        "    print(f'Epoch [{epoch+1}/{num_epochs}], Training Loss: {train_loss:.4f}, Training Accuracy: {train_acc:.2f}%, Validation Loss: {val_loss:.4f}, Validation Accuracy: {val_acc:.2f}%')\n",
        "\n",
        "    if val_loss < best_val_loss:\n",
        "      best_val_loss = val_loss\n",
        "    \n",
        "    # Early stopping logic\n",
        "    if abs(val_loss - best_val_loss) > min_delta:\n",
        "      epochs_without_improvement = 0\n",
        "    else:\n",
        "      epochs_without_improvement += 1\n",
        "\n",
        "    if epochs_without_improvement >= patience:\n",
        "      print(f'Early stopping triggered after {epoch+1} epochs')\n",
        "      torch.save(model.state_dict(),'/content/drive/MyDrive/MLMA Group/PASCAL_model.pt')\n",
        "      return train_losses, train_accs, val_losses, val_accs\n",
        "    torch.save(model.state_dict(),'/content/drive/MyDrive/MLMA Group/PASCAL_model.pt')\n",
        "  \n",
        "  return train_losses, train_accs, val_losses, val_accs\n",
        "\n",
        "train_losses, train_accs, val_losses, val_accs = tune_model(PASCAL_model, criterion, train_loader, val_loader, optimizer, num_epochs, patience=patience, min_delta=min_delta)"
      ]
    },
    {
      "cell_type": "code",
      "source": [
        "fig, ax = plt.subplots(1,2, figsize=(8,4))\n",
        "x = range(1,len(train_losses)+1)\n",
        "ax[0].set_title('Training and Validation Loss')\n",
        "ax[0].plot(x, train_losses, label='Training')\n",
        "ax[0].plot(x, val_losses, label='Validation')\n",
        "ax[0].legend()\n",
        "ax[1].set_title('Training and Validation Accuracy')\n",
        "ax[1].plot(x, train_accs, label='Training')\n",
        "ax[1].plot(x, val_accs, label='Validation')\n",
        "ax[1].legend()"
      ],
      "metadata": {
        "id": "OvKrQRcwRE7g"
      },
      "execution_count": null,
      "outputs": []
    },
    {
      "cell_type": "code",
      "source": [
        "def Test_PASCAL_model(model, test_dataloader):\n",
        "  \"\"\"Test model on test dataset and returns predictions and targets\"\"\"\n",
        "  model.eval()\n",
        "  device = torch.device(\"cuda\" if torch.cuda.is_available() else \"cpu\")\n",
        "  model.to(device)\n",
        "  test_loss = 0.0\n",
        "  test_correct = 0\n",
        "  target = []\n",
        "  prediction = []\n",
        "  with torch.no_grad():\n",
        "    for data, labels in test_dataloader:\n",
        "      labels = labels.type(torch.LongTensor)\n",
        "      data, labels = data.to(device), labels.to(device)\n",
        "      output_logits = model(data)\n",
        "      pred = torch.softmax(output_logits, dim=1)\n",
        "      pred = pred.argmax(dim=1)\n",
        "      prediction.append(pred.cpu().tolist())\n",
        "      target.append(labels.cpu().tolist())\n",
        "  target = np.hstack(target)\n",
        "  prediction = np.hstack(prediction)\n",
        "\n",
        "  return target, prediction"
      ],
      "metadata": {
        "id": "tuo6nlL1RI06"
      },
      "execution_count": null,
      "outputs": []
    },
    {
      "cell_type": "code",
      "source": [
        "# Load pretrained model\n",
        "pretrained_model = HeartSoundClassifier2()\n",
        "pretrained_model.load_state_dict(torch.load('/content/drive/MyDrive/MLMA Group/physionet_model2.pt'))\n",
        "cnn = pretrained_model.cnn_layers\n",
        "\n",
        "PASCAL_model = PASCALClassifier(cnn)\n",
        "PASCAL_model.load_state_dict(torch.load('/content/drive/MyDrive/MLMA Group/PASCAL_model.pt'))\n",
        "y_true, y_pred = Test_PASCAL_model(PASCAL_model, test_loader)"
      ],
      "metadata": {
        "id": "UAan4bQaRL9l"
      },
      "execution_count": null,
      "outputs": []
    },
    {
      "cell_type": "code",
      "source": [
        "# Evaluation metrics\n",
        "print('\\nTransfer Learning Classification Report:')\n",
        "print(classification_report(y_true, y_pred, target_names=label_encoder_dB.classes_))\n",
        "\n",
        "confusion_mtx = confusion_matrix(y_true, y_pred)\n",
        "sns.heatmap(confusion_mtx, annot=True, fmt='d', xticklabels=label_encoder_dB.classes_, yticklabels=label_encoder.classes_)\n",
        "plt.xlabel('Predicted')\n",
        "plt.ylabel('True')\n",
        "plt.title('Confusion Matrix')\n",
        "plt.show()"
      ],
      "metadata": {
        "id": "7QtBfURwXrvI"
      },
      "execution_count": null,
      "outputs": []
    },
    {
      "cell_type": "code",
      "source": [
        "recall = metrics.recall_score(y_true,y_pred)\n",
        "precision = metrics.precision_score(y_true,y_pred)\n",
        "accuracy = metrics.accuracy_score(y_true,y_pred)\n",
        "f1_score = metrics.f1_score(y_true,y_pred)\n",
        "print(f\"Test metrics:\\n\\tRecall-rate: {recall:.4f}\\n\\tPrecision: {precision:.4f}\"\n",
        "      +f\"\\n\\tAccuracy: {accuracy:.4f}\\n\\tF1-Score: {f1_score:.4f}\")"
      ],
      "metadata": {
        "id": "b6mObdwjYPJw"
      },
      "execution_count": null,
      "outputs": []
    },
    {
      "cell_type": "markdown",
      "source": [
        "# Semi-Supervised Learning"
      ],
      "metadata": {
        "id": "7H2pPahgZB8n"
      }
    },
    {
      "cell_type": "code",
      "source": [
        "# apply the transfer-learning model to physionet validation set\n",
        "\n",
        "# load in the data and create data loaders\n",
        "\n",
        "data_dir_phys2 = '/content/drive/MyDrive/MLMA Group/CardiacData/physionet cardiac sounds/heart_sound/val'\n",
        "label_encoder_phys2 = LabelEncoder()\n",
        "\n",
        "file_paths_phys2 = [] # phys2 = physionet dataset 2\n",
        "labels_phys2 = []\n",
        "data_phys2 = []\n",
        "\n",
        "for label in os.listdir(data_dir_phys2):\n",
        "  label_dir = os.path.join(data_dir_phys2, label)\n",
        "  for file_name in os.listdir(label_dir):\n",
        "    new_file_path, audio_data = write_prepped_audio(label_dir, file_name, audio_sample_len, target_sample_rate)\n",
        "    if new_file_path is not None:\n",
        "      file_paths_phys2.append(new_file_path)\n",
        "      labels_phys2.append(label)\n",
        "      # Store all recordings into a list\n",
        "      data_phys2.append(audio_data[:audio_sample_len])\n",
        "data_array_phys2 = np.vstack(data_phys2)\n",
        "encoded_labels_phys2 = label_encoder_phys2.fit_transform(labels_phys2)\n",
        "\n",
        "# Create weights for unbalanced dataset\n",
        "class_counts = dict(Counter(labels_phys2))\n",
        "class_weights = [class_counts['healthy']/len(labels_phys2), class_counts['unhealthy']/len(labels_phys2)]\n",
        "weights = list()\n",
        "for label in encoded_labels_phys2:\n",
        "  weights.append(class_weights[label])\n",
        "\n",
        "dataset_phys2 = HeartSoundDataset(data_array_phys2, encoded_labels_phys2, np.array(labels_phys2), target_sample_rate)"
      ],
      "metadata": {
        "id": "urQdNQQWZHE2"
      },
      "execution_count": null,
      "outputs": []
    },
    {
      "cell_type": "code",
      "source": [
        "test_loader = DataLoader(dataset_phys2, batch_size=100, shuffle=False)\n",
        "\n"
      ],
      "metadata": {
        "id": "75QkZ7l3byWq"
      },
      "execution_count": null,
      "outputs": []
    }
  ],
  "metadata": {
    "accelerator": "GPU",
    "colab": {
      "machine_shape": "hm",
      "provenance": []
    },
    "gpuClass": "premium",
    "kernelspec": {
      "display_name": "Python 3",
      "name": "python3"
    },
    "language_info": {
      "name": "python"
    }
  },
  "nbformat": 4,
  "nbformat_minor": 0
}