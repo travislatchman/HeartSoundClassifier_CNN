{
  "nbformat": 4,
  "nbformat_minor": 0,
  "metadata": {
    "colab": {
      "provenance": [],
      "authorship_tag": "ABX9TyP/LeITiJLrqmyIwZ2flmnb",
      "include_colab_link": true
    },
    "kernelspec": {
      "name": "python3",
      "display_name": "Python 3"
    },
    "language_info": {
      "name": "python"
    }
  },
  "cells": [
    {
      "cell_type": "markdown",
      "metadata": {
        "id": "view-in-github",
        "colab_type": "text"
      },
      "source": [
        "<a href=\"https://colab.research.google.com/github/travislatchman/TheHearts/blob/main/HeartSoundClassifier_CNN_1D.ipynb\" target=\"_parent\"><img src=\"https://colab.research.google.com/assets/colab-badge.svg\" alt=\"Open In Colab\"/></a>"
      ]
    },
    {
      "cell_type": "code",
      "execution_count": null,
      "metadata": {
        "id": "b0aMnZJYWXIw"
      },
      "outputs": [],
      "source": [
        "import os\n",
        "import torch\n",
        "import librosa\n",
        "import numpy as np\n",
        "from torch import nn\n",
        "from torch.utils.data import Dataset, DataLoader, random_split\n",
        "from scipy.signal import butter, lfilter\n",
        "from collections import defaultdict\n",
        "from sklearn.preprocessing import LabelEncoder\n",
        "from sklearn.metrics import classification_report, confusion_matrix\n",
        "import seaborn as sns\n",
        "import matplotlib.pyplot as plt"
      ]
    },
    {
      "cell_type": "code",
      "source": [
        "# # Define the CNN model\n",
        "# class HeartSoundClassifier(nn.Module):\n",
        "#     def __init__(self):\n",
        "#         super(HeartSoundClassifier, self).__init__()\n",
        "#         self.conv1 = nn.Conv1d(1, 32, kernel_size=5)\n",
        "#         self.relu = nn.ReLU()\n",
        "#         self.maxpool = nn.MaxPool1d(2)\n",
        "#         self.conv2 = nn.Conv1d(32, 64, kernel_size=5)\n",
        "#         self.flatten = nn.Flatten()\n",
        "#         self.fc1 = nn.Linear(64 * ((X_train.shape[1] - 4) // 2 - 4) // 2, 128)\n",
        "#         self.dropout = nn.Dropout(0.5)\n",
        "#         self.fc2 = nn.Linear(128, 4)  # Assuming 4 classes\n",
        "\n",
        "#     def forward(self, x):\n",
        "#         x = self.maxpool(self.relu(self.conv1(x)))\n",
        "#         x = self.maxpool(self.relu(self.conv2(x)))\n",
        "#         x = self.flatten(x)\n",
        "#         x = self.relu(self.fc1(x))\n",
        "#         x = self.dropout(x)\n",
        "#         x = self.fc2(x)\n",
        "#         return x\n",
        "\n"
      ],
      "metadata": {
        "id": "AwJGhLxvWn1T"
      },
      "execution_count": null,
      "outputs": []
    },
    {
      "cell_type": "code",
      "source": [
        "# # Instantiate the model\n",
        "# model = HeartSoundClassifier()\n",
        "\n",
        "# # Set device\n",
        "# device = torch.device(\"cuda\" if torch.cuda.is_available() else \"cpu\")\n",
        "# model = model.to(device)\n",
        "# X_val, y_val = X_val.to(device), y_val.to(device)\n",
        "\n",
        "# # Define loss and optimizer\n",
        "# criterion = nn.CrossEntropyLoss()\n",
        "# optimizer = optim.Adam(model.parameters())"
      ],
      "metadata": {
        "id": "rhdlfT9PXGpI"
      },
      "execution_count": null,
      "outputs": []
    },
    {
      "cell_type": "code",
      "source": [
        "# # Train the model\n",
        "# num_epochs = 20\n",
        "\n",
        "# for epoch in range(num_epochs):\n",
        "#     model.train()\n",
        "#     for inputs, targets in train_loader:\n",
        "#         inputs, targets = inputs.to(device), targets.to(device)\n",
        "\n",
        "#         optimizer.zero_grad()\n",
        "#         outputs = model(inputs)\n",
        "#         loss = criterion(outputs, targets)\n",
        "#         loss.backward()\n",
        "#         optimizer.step()\n",
        "\n",
        "#     # Validate the model\n",
        "#     model.eval()\n",
        "#     correct = 0\n",
        "#     total = 0\n",
        "#     with torch.no_grad():\n",
        "#         for inputs, targets in val_loader:\n",
        "#             inputs, targets = inputs.to(device), targets.to(device)\n",
        "#             outputs = model(inputs)\n",
        "#             _, predicted = torch.max(outputs.data, 1)\n",
        "#             total += targets.size(0)\n",
        "#             correct += (predicted == targets).sum().item()\n",
        "\n",
        "#     print(f'Epoch [{epoch+1}/{num_epochs}], Validation accuracy: {100 * correct / total:.2f}%')\n"
      ],
      "metadata": {
        "id": "qOQgLhtsXQRg"
      },
      "execution_count": null,
      "outputs": []
    },
    {
      "cell_type": "code",
      "source": [
        "# # Final evaluation\n",
        "# model.eval()\n",
        "# correct = 0\n",
        "# total = 0\n",
        "# with torch.no_grad():\n",
        "#     for inputs, targets in val_loader:\n",
        "#         inputs, targets = inputs.to(device), targets.to(device)\n",
        "#         outputs = model(inputs)\n",
        "#         _, predicted = torch.max(outputs.data, 1)\n",
        "#         total += targets.size(0)\n",
        "#         correct += (predicted == targets).sum().item()\n",
        "\n",
        "# print(f'Final validation accuracy: {100 * correct / total:.2f}%')\n"
      ],
      "metadata": {
        "id": "vi7S0JCgXceb"
      },
      "execution_count": null,
      "outputs": []
    },
    {
      "cell_type": "markdown",
      "source": [
        "### Preprocessing functions"
      ],
      "metadata": {
        "id": "7kycKlr4xKbR"
      }
    },
    {
      "cell_type": "code",
      "source": [
        "# Preprocessing functions\n",
        "def load_audio_file(file_path):\n",
        "    audio_data, sample_rate = librosa.load(file_path, sr=None)\n",
        "    return audio_data, sample_rate"
      ],
      "metadata": {
        "id": "-ZvEYAZyxHwO"
      },
      "execution_count": null,
      "outputs": []
    },
    {
      "cell_type": "code",
      "source": [
        "def butter_lowpass(cutoff, fs, order=5):\n",
        "    nyq = 0.5 * fs\n",
        "    normal_cutoff = cutoff / nyq\n",
        "    b, a = butter(order, normal_cutoff, btype='low', analog=False)\n",
        "    return b, a"
      ],
      "metadata": {
        "id": "qd8pDBNwxRWl"
      },
      "execution_count": null,
      "outputs": []
    },
    {
      "cell_type": "code",
      "source": [
        "def butter_lowpass_filter(data, cutoff, fs, order=5):\n",
        "    b, a = butter_lowpass(cutoff, fs, order=order)\n",
        "    y = lfilter(b, a, data)\n",
        "    return y"
      ],
      "metadata": {
        "id": "vUT1hc-yxTPt"
      },
      "execution_count": null,
      "outputs": []
    },
    {
      "cell_type": "code",
      "source": [
        "def apply_lowpass_filter(audio_data, sample_rate, cutoff=195):\n",
        "    filtered_data = butter_lowpass_filter(audio_data, cutoff, sample_rate)\n",
        "    return filtered_data"
      ],
      "metadata": {
        "id": "TpyPLUJGxVEf"
      },
      "execution_count": null,
      "outputs": []
    },
    {
      "cell_type": "code",
      "source": [
        "def perform_fft(filtered_data):\n",
        "    fft_data = np.fft.fft(filtered_data)\n",
        "    return fft_data"
      ],
      "metadata": {
        "id": "E1PwiHTXxXc1"
      },
      "execution_count": null,
      "outputs": []
    }
  ]
}