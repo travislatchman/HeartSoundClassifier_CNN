{
  "nbformat": 4,
  "nbformat_minor": 0,
  "metadata": {
    "colab": {
      "provenance": [],
      "include_colab_link": true
    },
    "kernelspec": {
      "name": "python3",
      "display_name": "Python 3"
    },
    "language_info": {
      "name": "python"
    }
  },
  "cells": [
    {
      "cell_type": "markdown",
      "metadata": {
        "id": "view-in-github",
        "colab_type": "text"
      },
      "source": [
        "<a href=\"https://colab.research.google.com/github/travislatchman/TheHearts/blob/main/HeartSoundClassifier_CNN_1D.ipynb\" target=\"_parent\"><img src=\"https://colab.research.google.com/assets/colab-badge.svg\" alt=\"Open In Colab\"/></a>"
      ]
    },
    {
      "cell_type": "code",
      "execution_count": null,
      "metadata": {
        "id": "b0aMnZJYWXIw"
      },
      "outputs": [],
      "source": [
        "import os\n",
        "import torch\n",
        "import librosa\n",
        "import numpy as np\n",
        "from torch import nn\n",
        "from torch.utils.data import Dataset, DataLoader, random_split\n",
        "from scipy.signal import butter, lfilter\n",
        "import scipy.io\n",
        "from collections import defaultdict\n",
        "from sklearn.preprocessing import LabelEncoder\n",
        "from sklearn.metrics import classification_report, confusion_matrix\n",
        "import seaborn as sns\n",
        "import matplotlib.pyplot as plt\n",
        "\n",
        "seed = 1\n",
        "np.random.seed(seed)\n",
        "rng = np.random.default_rng(seed) # seeded random number generator"
      ]
    },
    {
      "cell_type": "code",
      "source": [
        "# # Define the CNN model\n",
        "# class HeartSoundClassifier(nn.Module):\n",
        "#     def __init__(self):\n",
        "#         super(HeartSoundClassifier, self).__init__()\n",
        "#         self.conv1 = nn.Conv1d(1, 32, kernel_size=5)\n",
        "#         self.relu = nn.ReLU()\n",
        "#         self.maxpool = nn.MaxPool1d(2)\n",
        "#         self.conv2 = nn.Conv1d(32, 64, kernel_size=5)\n",
        "#         self.flatten = nn.Flatten()\n",
        "#         self.fc1 = nn.Linear(64 * ((X_train.shape[1] - 4) // 2 - 4) // 2, 128)\n",
        "#         self.dropout = nn.Dropout(0.5)\n",
        "#         self.fc2 = nn.Linear(128, 4)  # Assuming 4 classes\n",
        "\n",
        "#     def forward(self, x):\n",
        "#         x = self.maxpool(self.relu(self.conv1(x)))\n",
        "#         x = self.maxpool(self.relu(self.conv2(x)))\n",
        "#         x = self.flatten(x)\n",
        "#         x = self.relu(self.fc1(x))\n",
        "#         x = self.dropout(x)\n",
        "#         x = self.fc2(x)\n",
        "#         return x\n",
        "\n"
      ],
      "metadata": {
        "id": "AwJGhLxvWn1T"
      },
      "execution_count": null,
      "outputs": []
    },
    {
      "cell_type": "code",
      "source": [
        "# # Instantiate the model\n",
        "# model = HeartSoundClassifier()\n",
        "\n",
        "# # Set device\n",
        "# device = torch.device(\"cuda\" if torch.cuda.is_available() else \"cpu\")\n",
        "# model = model.to(device)\n",
        "# X_val, y_val = X_val.to(device), y_val.to(device)\n",
        "\n",
        "# # Define loss and optimizer\n",
        "# criterion = nn.CrossEntropyLoss()\n",
        "# optimizer = optim.Adam(model.parameters())"
      ],
      "metadata": {
        "id": "rhdlfT9PXGpI"
      },
      "execution_count": null,
      "outputs": []
    },
    {
      "cell_type": "code",
      "source": [
        "# # Train the model\n",
        "# num_epochs = 20\n",
        "\n",
        "# for epoch in range(num_epochs):\n",
        "#     model.train()\n",
        "#     for inputs, targets in train_loader:\n",
        "#         inputs, targets = inputs.to(device), targets.to(device)\n",
        "\n",
        "#         optimizer.zero_grad()\n",
        "#         outputs = model(inputs)\n",
        "#         loss = criterion(outputs, targets)\n",
        "#         loss.backward()\n",
        "#         optimizer.step()\n",
        "\n",
        "#     # Validate the model\n",
        "#     model.eval()\n",
        "#     correct = 0\n",
        "#     total = 0\n",
        "#     with torch.no_grad():\n",
        "#         for inputs, targets in val_loader:\n",
        "#             inputs, targets = inputs.to(device), targets.to(device)\n",
        "#             outputs = model(inputs)\n",
        "#             _, predicted = torch.max(outputs.data, 1)\n",
        "#             total += targets.size(0)\n",
        "#             correct += (predicted == targets).sum().item()\n",
        "\n",
        "#     print(f'Epoch [{epoch+1}/{num_epochs}], Validation accuracy: {100 * correct / total:.2f}%')\n"
      ],
      "metadata": {
        "id": "qOQgLhtsXQRg"
      },
      "execution_count": null,
      "outputs": []
    },
    {
      "cell_type": "code",
      "source": [
        "# # Final evaluation\n",
        "# model.eval()\n",
        "# correct = 0\n",
        "# total = 0\n",
        "# with torch.no_grad():\n",
        "#     for inputs, targets in val_loader:\n",
        "#         inputs, targets = inputs.to(device), targets.to(device)\n",
        "#         outputs = model(inputs)\n",
        "#         _, predicted = torch.max(outputs.data, 1)\n",
        "#         total += targets.size(0)\n",
        "#         correct += (predicted == targets).sum().item()\n",
        "\n",
        "# print(f'Final validation accuracy: {100 * correct / total:.2f}%')\n"
      ],
      "metadata": {
        "id": "vi7S0JCgXceb"
      },
      "execution_count": null,
      "outputs": []
    },
    {
      "cell_type": "markdown",
      "source": [
        "### Preprocessing functions"
      ],
      "metadata": {
        "id": "7kycKlr4xKbR"
      }
    },
    {
      "cell_type": "code",
      "source": [
        "# Preprocessing functions\n",
        "def load_audio_file(file_path):\n",
        "    audio_data, sample_rate = librosa.load(file_path, sr=None)\n",
        "    if (sample_rate - 2000)**2 > 100:\n",
        "      print(f\"{sample_rate}, resampled\")\n",
        "      audio_data, sample_rate = librosa.load(file_path, sr=2000)\n",
        "      # print(\"resampled\")\n",
        "    return audio_data, sample_rate"
      ],
      "metadata": {
        "id": "-ZvEYAZyxHwO"
      },
      "execution_count": null,
      "outputs": []
    },
    {
      "cell_type": "code",
      "source": [
        "def butter_lowpass(cutoff, fs, order=5):\n",
        "    nyq = 0.5 * fs\n",
        "    normal_cutoff = cutoff / nyq\n",
        "    b, a = butter(order, normal_cutoff, btype='low', analog=False)\n",
        "    return b, a"
      ],
      "metadata": {
        "id": "qd8pDBNwxRWl"
      },
      "execution_count": null,
      "outputs": []
    },
    {
      "cell_type": "code",
      "source": [
        "def butter_lowpass_filter(data, cutoff, fs, order=5):\n",
        "    b, a = butter_lowpass(cutoff, fs, order=order)\n",
        "    y = lfilter(b, a, data)\n",
        "    return y"
      ],
      "metadata": {
        "id": "vUT1hc-yxTPt"
      },
      "execution_count": null,
      "outputs": []
    },
    {
      "cell_type": "code",
      "source": [
        "def apply_lowpass_filter(audio_data, sample_rate, cutoff=195):\n",
        "    filtered_data = butter_lowpass_filter(audio_data, cutoff, sample_rate)\n",
        "    return filtered_data"
      ],
      "metadata": {
        "id": "TpyPLUJGxVEf"
      },
      "execution_count": null,
      "outputs": []
    },
    {
      "cell_type": "code",
      "source": [
        "def perform_fft(filtered_data):\n",
        "    fft_data = np.fft.fft(filtered_data)\n",
        "    return fft_data"
      ],
      "metadata": {
        "id": "E1PwiHTXxXc1"
      },
      "execution_count": null,
      "outputs": []
    },
    {
      "cell_type": "markdown",
      "source": [
        "### Data Augmentation (REVIEW)\n"
      ],
      "metadata": {
        "id": "JFjcgThv1Gad"
      }
    },
    {
      "cell_type": "markdown",
      "source": [
        "##### Time Shifting - shift the audio signal by a random amount"
      ],
      "metadata": {
        "id": "YRqOFJe_1mYz"
      }
    },
    {
      "cell_type": "code",
      "source": [
        "def time_shift(audio_data, sample_rate):\n",
        "    shift_amount = int(sample_rate * np.random.uniform(-0.1, 0.1))\n",
        "    shifted_data = np.roll(audio_data, shift_amount)\n",
        "    return shifted_data"
      ],
      "metadata": {
        "id": "v-gK7f0V1KcC"
      },
      "execution_count": null,
      "outputs": []
    },
    {
      "cell_type": "markdown",
      "source": [
        "##### Pitch Shifting - Change the pitch of the audio signal by a random factor"
      ],
      "metadata": {
        "id": "hkji_fKx1tAc"
      }
    },
    {
      "cell_type": "code",
      "source": [
        "def pitch_shift(audio_data, sample_rate):\n",
        "    pitch_shift_amount = np.random.uniform(-1.0, 1.0)\n",
        "    shifted_data = librosa.effects.pitch_shift(audio_data, sample_rate, pitch_shift_amount)\n",
        "    return shifted_data"
      ],
      "metadata": {
        "id": "GPIdt85512Ab"
      },
      "execution_count": null,
      "outputs": []
    },
    {
      "cell_type": "markdown",
      "source": [
        "##### Add Random Noise"
      ],
      "metadata": {
        "id": "uC9egwA6165j"
      }
    },
    {
      "cell_type": "code",
      "source": [
        "def add_noise(audio_data):\n",
        "    noise_level = np.random.uniform(0.005, 0.05)\n",
        "    noise = np.random.randn(len(audio_data)) * noise_level\n",
        "    noisy_data = audio_data + noise # add noise ~ normal(mean=0, std=noise_level)\n",
        "    return noisy_data"
      ],
      "metadata": {
        "id": "zR6gGgYk19LW"
      },
      "execution_count": null,
      "outputs": []
    },
    {
      "cell_type": "markdown",
      "source": [
        "### New Dataset if you want to augment the data - adds parameter  (REVIEW)"
      ],
      "metadata": {
        "id": "eXQOF4D82eTI"
      }
    },
    {
      "cell_type": "code",
      "source": [
        "class HeartSoundDataset(Dataset):\n",
        "    def __init__(self, file_paths, labels, num_output_samples, transform=None, augmentation=False):\n",
        "        self.file_paths = file_paths\n",
        "        self.labels = labels\n",
        "        self.transform = transform\n",
        "        self.num_output_samples = num_output_samples\n",
        "        self.augmentation = augmentation\n",
        "\n",
        "    def __len__(self):\n",
        "        return len(self.file_paths)\n",
        "\n",
        "    def __getitem__(self, idx):\n",
        "        file_path = self.file_paths[idx]\n",
        "        audio_data, sample_rate = load_audio_file(file_path)\n",
        "\n",
        "        # Apply data augmentation techniques if the augmentation parameter is set to True\n",
        "        if self.augmentation:\n",
        "            audio_data = time_shift(audio_data, sample_rate)\n",
        "            audio_data = pitch_shift(audio_data, sample_rate)\n",
        "            audio_data = add_noise(audio_data)\n",
        "\n",
        "        filtered_data = apply_lowpass_filter(audio_data, sample_rate)\n",
        "        fft_data = perform_fft(filtered_data)\n",
        "\n",
        "        # Use only the real part of the FFT data\n",
        "        real_fft_data = np.real(fft_data)\n",
        "\n",
        "        # Normalize data\n",
        "        normalized_data = (real_fft_data - np.min(real_fft_data)) / (np.max(real_fft_data) - np.min(real_fft_data))\n",
        "\n",
        "        if self.transform:\n",
        "            normalized_data = self.transform(normalized_data)\n",
        "\n",
        "        label = self.labels[idx]\n",
        "        return torch.tensor(normalized_data[:self.num_output_samples]).float(), label\n",
        "\n"
      ],
      "metadata": {
        "id": "WdNHHOeK2h2o"
      },
      "execution_count": null,
      "outputs": []
    },
    {
      "cell_type": "markdown",
      "source": [
        "### New Dataloaders for Augmentation - added parameter is set to true (REVIEW)"
      ],
      "metadata": {
        "id": "J5xGIfpm3JI-"
      }
    },
    {
      "cell_type": "code",
      "source": [
        "def create_dataloaders(file_paths, labels, max_num_samples, rng, train_ratio=0.7, val_ratio=0.15, test_ratio=0.15, batch_size=100, augmentation=True):\n",
        "    dataset_size = len(file_paths)\n",
        "    train_size = int(train_ratio * dataset_size)\n",
        "    val_size = int(val_ratio * dataset_size)\n",
        "    test_size = dataset_size - train_size - val_size\n",
        "\n",
        "    dataset = HeartSoundDataset(file_paths, labels, max_num_samples)\n",
        "    train_set, val_set, test_set = random_split(dataset, [train_size, val_size, test_size]) #, generator=rng)\n",
        "\n",
        "    # Apply data augmentation only to the training dataset\n",
        "    train_set.dataset = HeartSoundDataset(train_set.dataset.file_paths, train_set.dataset.labels, train_set.dataset.num_output_samples, augmentation=augmentation)\n",
        "\n",
        "    train_loader = DataLoader(train_set, batch_size=batch_size, shuffle=True)\n",
        "    val_loader = DataLoader(val_set, batch_size=batch_size, shuffle=False)\n",
        "    test_loader = DataLoader(test_set, batch_size=batch_size, shuffle=False)\n",
        "\n",
        "    return train_loader, val_loader, test_loader\n"
      ],
      "metadata": {
        "id": "g8JWv0S23NX1"
      },
      "execution_count": null,
      "outputs": []
    },
    {
      "cell_type": "markdown",
      "source": [
        "### Building Dataset"
      ],
      "metadata": {
        "id": "kl87moFrx4lt"
      }
    },
    {
      "cell_type": "code",
      "source": [
        "class HeartSoundDataset(Dataset):\n",
        "  def __init__(self, file_paths, labels, num_output_samples, transform=None):\n",
        "    self.file_paths = file_paths\n",
        "    self.labels = labels\n",
        "    self.transform = transform\n",
        "    self.num_output_samples = num_output_samples\n",
        "\n",
        "  def __len__(self):\n",
        "    return len(self.file_paths)\n",
        "\n",
        "  def __getitem__(self, idx):\n",
        "    file_path = self.file_paths[idx]\n",
        "    audio_data, sample_rate = load_audio_file(file_path)\n",
        "    filtered_data = apply_lowpass_filter(audio_data, sample_rate)\n",
        "    fft_data = perform_fft(filtered_data)\n",
        "\n",
        "    # Use only the real part of the FFT data\n",
        "    real_fft_data = np.real(fft_data)\n",
        "\n",
        "    # Normalize data\n",
        "    normalized_data = (real_fft_data - np.min(real_fft_data)) / (np.max(real_fft_data) - np.min(real_fft_data))\n",
        "\n",
        "    if self.transform:\n",
        "      normalized_data = self.transform(normalized_data)\n",
        "\n",
        "    label = self.labels[idx]\n",
        "    return torch.tensor(normalized_data[:self.num_output_samples]).float(), label\n",
        "\n"
      ],
      "metadata": {
        "id": "BzpAQUBBx3jy"
      },
      "execution_count": null,
      "outputs": []
    },
    {
      "cell_type": "code",
      "source": [
        "def create_dataloaders(file_paths, labels, max_num_samples, rng, train_ratio=0.7, val_ratio=0.15, test_ratio=0.15, batch_size=100):\n",
        "  dataset_size = len(file_paths)\n",
        "  train_size = int(train_ratio * dataset_size)\n",
        "  val_size = int(val_ratio * dataset_size)\n",
        "  test_size = dataset_size - train_size - val_size\n",
        "\n",
        "  dataset = HeartSoundDataset(file_paths, labels, max_num_samples)\n",
        "  train_set, val_set, test_set = random_split(dataset, [train_size, val_size, test_size],)# generator = rng)\n",
        "\n",
        "  train_loader = DataLoader(train_set, batch_size=batch_size, shuffle=True)\n",
        "  val_loader = DataLoader(val_set, batch_size=batch_size, shuffle=False)\n",
        "  test_loader = DataLoader(test_set, batch_size=batch_size, shuffle=False)\n",
        "\n",
        "  return train_loader, val_loader, test_loader"
      ],
      "metadata": {
        "id": "UAhLBalsyYFr"
      },
      "execution_count": null,
      "outputs": []
    },
    {
      "cell_type": "markdown",
      "source": [
        "### Heart Sound Classifier"
      ],
      "metadata": {
        "id": "zl_1HYalyBFs"
      }
    },
    {
      "cell_type": "code",
      "source": [
        "class HeartSoundClassifier(nn.Module):\n",
        "    def __init__(self, input_size, num_classes):\n",
        "        super(HeartSoundClassifier, self).__init__()\n",
        "        self.conv1 = nn.Conv1d(1, 8, kernel_size=15, stride=1)\n",
        "        self.relu1 = nn.ReLU()\n",
        "        self.pool1 = nn.MaxPool1d(8)\n",
        "        self.conv2 = nn.Conv1d(8, 16, kernel_size=15, stride=1)\n",
        "        self.relu2 = nn.ReLU()\n",
        "        self.pool2 = nn.MaxPool1d(8)\n",
        "        self.flatten = nn.Flatten()\n",
        "        # self.fc1 = nn.Linear(input_size // 4 * 16, 32)\n",
        "        self.fc1 = nn.Linear(960, 32)\n",
        "        self.relu3 = nn.ReLU()\n",
        "        self.fc2 = nn.Linear(32, num_classes)\n",
        "        self.softmax = nn.Softmax(0)\n",
        "\n",
        "    def forward(self, x):\n",
        "        x = x.unsqueeze(1)\n",
        "        x = self.pool1(self.relu1(self.conv1(x)))\n",
        "        x = self.pool2(self.relu2(self.conv2(x)))\n",
        "        x = self.flatten(x)\n",
        "        x = self.relu3(self.fc1(x))\n",
        "        # print(x.shape)\n",
        "        x = self.fc2(x)\n",
        "        # print(x.shape)\n",
        "        return self.softmax(x)\n"
      ],
      "metadata": {
        "id": "-t4fWpCFx99a"
      },
      "execution_count": null,
      "outputs": []
    },
    {
      "cell_type": "markdown",
      "source": [
        "### Classifier with Dropout and Regularization (REVIEW)"
      ],
      "metadata": {
        "id": "6Q-2DnWtPf-M"
      }
    },
    {
      "cell_type": "code",
      "source": [
        "# class HeartSoundClassifier(nn.Module):\n",
        "#     def __init__(self, input_size, num_classes):\n",
        "#         super(HeartSoundClassifier, self).__init__()\n",
        "#         self.conv1 = nn.Conv1d(1, 8, kernel_size=15, stride=1)\n",
        "#         self.bn1 = nn.BatchNorm1d(8) # BATCH \n",
        "#         self.relu1 = nn.ReLU()\n",
        "#         self.pool1 = nn.MaxPool1d(8)\n",
        "#         self.dropout1 = nn.Dropout(0.5) # DROPOUT\n",
        "\n",
        "#         self.conv2 = nn.Conv1d(8, 16, kernel_size=15, stride=1)\n",
        "#         self.bn2 = nn.BatchNorm1d(16)\n",
        "#         self.relu2 = nn.ReLU()\n",
        "#         self.pool2 = nn.MaxPool1d(8)\n",
        "#         self.dropout2 = nn.Dropout(0.5)\n",
        "\n",
        "#         self.flatten = nn.Flatten()\n",
        "#         self.fc1 = nn.Linear(960, 32)\n",
        "#         self.relu3 = nn.ReLU()\n",
        "#         self.dropout3 = nn.Dropout(0.5)\n",
        "\n",
        "#         self.fc2 = nn.Linear(32, num_classes)\n",
        "#         self.softmax = nn.Softmax(0)\n",
        "\n",
        "#     def forward(self, x):\n",
        "#         x = x.unsqueeze(1)\n",
        "#         x = self.pool1(self.relu1(self.bn1(self.conv1(x))))\n",
        "#         x = self.dropout1(x)\n",
        "\n",
        "#         x = self.pool2(self.relu2(self.bn2(self.conv2(x))))\n",
        "#         x = self.dropout2(x)\n",
        "\n",
        "#         x = self.flatten(x)\n",
        "\n",
        "#         x = self.relu3(self.fc1(x))\n",
        "#         x = self.dropout3(x)\n",
        "\n",
        "#         x = self.fc2(x)\n",
        "\n",
        "#         return self.softmax(x)"
      ],
      "metadata": {
        "id": "DNCWVKuYPkmU"
      },
      "execution_count": null,
      "outputs": []
    },
    {
      "cell_type": "code",
      "source": [
        "def write_prepped_audio(label_dir, file_name, audio_sample_len):\n",
        "  if not os.path.exists(os.path.join(label_dir, \"prepped_audio\")):\n",
        "    os.makedirs(os.path.join(label_dir, \"prepped_audio\"))\n",
        "  new_file_path = os.path.join(label_dir, \"prepped_audio\", file_name)\n",
        "  audio_data, sample_rate = load_audio_file(new_file_path)\n",
        "\n",
        "  # if audio_data is shorter than 1/3 the target audio sample length, return None\n",
        "  # else, pad with zeros\n",
        "  if len(audio_data) < audio_sample_len/3:\n",
        "    return None\n",
        "  else:\n",
        "    new_audio_data = np.zeros(audio_sample_len, dtype=np.float32)\n",
        "    new_audio_data[:len(audio_data)] = audio_data\n",
        "    scipy.io.wavfile.write(new_audio_data)"
      ],
      "metadata": {
        "id": "mxGqC-qO5nAR"
      },
      "execution_count": null,
      "outputs": []
    },
    {
      "cell_type": "markdown",
      "source": [
        "# Training, Validation, Testing"
      ],
      "metadata": {
        "id": "ru7SmQPFzG32"
      }
    },
    {
      "cell_type": "code",
      "source": [
        "from google.colab import drive\n",
        "drive.mount('/content/drive')"
      ],
      "metadata": {
        "colab": {
          "base_uri": "https://localhost:8080/"
        },
        "id": "keGkVuaGQqnH",
        "outputId": "d824d14a-8560-407d-9632-d02d8c5ddd5e"
      },
      "execution_count": null,
      "outputs": [
        {
          "output_type": "stream",
          "name": "stdout",
          "text": [
            "Drive already mounted at /content/drive; to attempt to forcibly remount, call drive.mount(\"/content/drive\", force_remount=True).\n"
          ]
        }
      ]
    },
    {
      "cell_type": "code",
      "source": [
        "# Load data and create data loaders\n",
        "# data_dir = '/content/drive/MyDrive/MLMA Group/CardiacData/DatasetB'\n",
        "data_dir = '/content/drive/MyDrive/MLMA Group/CardiacData/physionet cardiac sounds/heart_sound/train'\n",
        "label_encoder = LabelEncoder()\n",
        "\n",
        "file_paths = []\n",
        "labels = []\n",
        "audio_sample_len = 9000\n",
        "\n",
        "for label in os.listdir(data_dir):\n",
        "  label_dir = os.path.join(data_dir, label)\n",
        "  for file_name in os.listdir(label_dir):\n",
        "    if file_name[-4:] == \".wav\" and len(load_audio_file(os.path.join(label_dir, file_name))[0]) > audio_sample_len:\n",
        "      new_file_path = write_prepped_audio(label_dir, file_name, audio_sample_len)\n",
        "      if new_file_path is not None:\n",
        "        file_paths.append(new_file_path)\n",
        "        labels.append(label)\n",
        "\n",
        "encoded_labels = label_encoder.fit_transform(labels)\n",
        "train_loader, val_loader, test_loader = create_dataloaders(file_paths, encoded_labels, audio_sample_len, rng)\n"
      ],
      "metadata": {
        "id": "z4RSLt6Yyk5S"
      },
      "execution_count": null,
      "outputs": []
    },
    {
      "cell_type": "code",
      "source": [
        "file_lensB = np.zeros(len(file_paths))\n",
        "for i, file_path in enumerate(file_paths):\n",
        "  file_lensB[i] = len(load_audio_file(file_path)[0])\n",
        "\n",
        "plt.hist(np.array(file_lensB)*0.5, bins=[0,1000,2000,3000,4000,5000,6000,7000,8000,9000,30000])"
      ],
      "metadata": {
        "colab": {
          "base_uri": "https://localhost:8080/",
          "height": 502
        },
        "id": "KH4mTenfOSkZ",
        "outputId": "be7bd00d-8cdd-4539-bb87-f2531bda51d2"
      },
      "execution_count": null,
      "outputs": [
        {
          "output_type": "execute_result",
          "data": {
            "text/plain": [
              "(array([  0.,   0.,  20.,  26.,  26.,  31.,  28.,  18.,  19., 134.]),\n",
              " array([    0.,  1000.,  2000.,  3000.,  4000.,  5000.,  6000.,  7000.,\n",
              "         8000.,  9000., 30000.]),\n",
              " <BarContainer object of 10 artists>)"
            ]
          },
          "metadata": {},
          "execution_count": 81
        },
        {
          "output_type": "display_data",
          "data": {
            "text/plain": [
              "<Figure size 640x480 with 1 Axes>"
            ],
            "image/png": "[encoded data removed]"
          },
          "metadata": {}
        }
      ]
    },
    {
      "cell_type": "code",
      "source": [
        "plt.hist(file_lens[:i], bins=[0,1000,2000,3000,4000,5000,6000,7000,8000,9000,50000])"
      ],
      "metadata": {
        "colab": {
          "base_uri": "https://localhost:8080/",
          "height": 499
        },
        "id": "pjx7dG2ZP2vb",
        "outputId": "a51a62ca-5ba2-488e-c792-956274179087"
      },
      "execution_count": null,
      "outputs": [
        {
          "output_type": "execute_result",
          "data": {
            "text/plain": [
              "(array([  0.,   0.,   0.,   0.,   0.,   0.,   0.,   0.,   3., 299.]),\n",
              " array([    0.,  1000.,  2000.,  3000.,  4000.,  5000.,  6000.,  7000.,\n",
              "         8000.,  9000., 50000.]),\n",
              " <BarContainer object of 10 artists>)"
            ]
          },
          "metadata": {},
          "execution_count": 78
        },
        {
          "output_type": "display_data",
          "data": {
            "text/plain": [
              "<Figure size 640x480 with 1 Axes>"
            ],
            "image/png": "[encoded data removed]"
          },
          "metadata": {}
        }
      ]
    },
    {
      "cell_type": "code",
      "source": [
        "# Initialize the model, loss function, and optimizer\n",
        "input_size = len(train_loader.dataset[0][0])\n",
        "num_classes = len(np.unique(encoded_labels))\n",
        "model = HeartSoundClassifier(input_size, num_classes)\n",
        "criterion = nn.CrossEntropyLoss()\n",
        "learning_rate = 0.01\n",
        "optimizer = torch.optim.Adam(model.parameters(), learning_rate)"
      ],
      "metadata": {
        "id": "P_UyDLT0y0Ou"
      },
      "execution_count": null,
      "outputs": []
    },
    {
      "cell_type": "markdown",
      "source": [
        "### Maybe add as a parameter for L1, L2 loss? (weight decay)"
      ],
      "metadata": {
        "id": "OBpmUbSPP9Lb"
      }
    },
    {
      "cell_type": "code",
      "source": [
        "# # Adjust this parameter for L1/L2 regularization\n",
        "# weight_decay = 1e-5  \n",
        "# optimizer = torch.optim.Adam(model.parameters(), lr=learning_rate, weight_decay=weight_decay)"
      ],
      "metadata": {
        "id": "TvGzwLmXQGET"
      },
      "execution_count": null,
      "outputs": []
    },
    {
      "cell_type": "markdown",
      "source": [
        "### Early Stopping (REVIEW) "
      ],
      "metadata": {
        "id": "_PZV-8O26OuG"
      }
    },
    {
      "cell_type": "code",
      "source": [
        "# # Set early stopping parameters\n",
        "# patience = 5\n",
        "# min_delta = 0.001\n",
        "\n",
        "# # Initialize variables to track best validation loss and epochs without improvement\n",
        "# best_val_loss = float('inf')\n",
        "# epochs_without_improvement = 0\n",
        "\n",
        "# for epoch in range(num_epochs):\n",
        "#     # Train the model\n",
        "#     model.train()\n",
        "#     train_loss = 0.0\n",
        "#     correct = 0\n",
        "#     total = 0\n",
        "#     for batch_num, (data, labels) in enumerate(train_loader):\n",
        "#         optimizer.zero_grad()\n",
        "#         outputs = model(data)\n",
        "#         loss = criterion(outputs, labels)\n",
        "#         loss.backward()\n",
        "#         optimizer.step()\n",
        "#         train_loss += loss.item()\n",
        "#         _, predicted = torch.max(outputs.data, 1)\n",
        "#         total += labels.size(0)\n",
        "#         correct += (predicted == labels).sum().item()\n",
        "\n",
        "#     # Compute training accuracy and loss\n",
        "#     train_acc = 100 * correct / total\n",
        "#     train_loss /= len(train_loader)\n",
        "#     train_accs.append(train_acc)\n",
        "#     train_losses.append(train_loss)\n",
        "\n",
        "#     # Validate the model\n",
        "#     model.eval()\n",
        "#     val_loss = 0.0\n",
        "#     val_correct = 0\n",
        "#     val_total = 0\n",
        "#     with torch.no_grad():\n",
        "#         for val_data, val_labels in val_loader:\n",
        "#             val_outputs = model(val_data)\n",
        "#             val_loss += criterion(val_outputs, val_labels).item()\n",
        "#             _, val_predicted = torch.max(val_outputs.data, 1)\n",
        "#             val_total += val_labels.size(0)\n",
        "#             val_correct += (val_predicted == val_labels).sum().item()\n",
        "\n",
        "#     # Compute validation accuracy and loss\n",
        "#     val_acc = 100 * val_correct / val_total\n",
        "#     val_loss /= len(val_loader)\n",
        "#     val_accs.append(val_acc)\n",
        "#     val_losses.append(val_loss)\n",
        "\n",
        "#     print(f'Epoch [{epoch+1}/{num_epochs}], Training Loss: {train_loss:.4f}, Training Accuracy: {train_acc:.2f}%, Validation Loss: {val_loss:.4f}, Validation Accuracy: {val_acc:.2f}%')\n",
        "\n",
        "#     # Early stopping logic\n",
        "#     if val_loss < (best_val_loss - min_delta):\n",
        "#         best_val_loss = val_loss\n",
        "#         epochs_without_improvement = 0\n",
        "#     else:\n",
        "#         epochs_without_improvement += 1\n",
        "\n",
        "#     if epochs_without_improvement >= patience:\n",
        "#         print(f'Early stopping triggered after {epoch+1} epochs')\n",
        "#         break\n"
      ],
      "metadata": {
        "id": "HSWPy27Z6Tou"
      },
      "execution_count": null,
      "outputs": []
    },
    {
      "cell_type": "markdown",
      "source": [
        "### Train and Validate"
      ],
      "metadata": {
        "id": "iSTHh8HA6VkL"
      }
    },
    {
      "cell_type": "code",
      "source": [
        "# Train and validate the model\n",
        "num_epochs = 10\n",
        "\n",
        "train_losses = []\n",
        "val_losses = []\n",
        "train_accs = []\n",
        "val_accs = []\n",
        "\n",
        "for epoch in range(num_epochs):\n",
        "  # Train\n",
        "  model.train()\n",
        "  train_loss = 0.0\n",
        "  correct = 0\n",
        "  total = 0\n",
        "  for batch_num, (data, labels) in enumerate(train_loader):\n",
        "    # print(f\"batch number {batch_num}\")\n",
        "    optimizer.zero_grad()\n",
        "    outputs = model(data)\n",
        "    loss = criterion(outputs, labels)\n",
        "    loss.backward()\n",
        "    optimizer.step()\n",
        "    train_loss += loss.item()\n",
        "    _, predicted = torch.max(outputs.data, 1)\n",
        "    total += labels.size(0)\n",
        "    correct += (predicted == labels).sum().item()\n",
        "\n",
        "  # Compute training accuracy and loss\n",
        "  train_acc = 100 * correct / total\n",
        "  train_loss /= len(train_loader)\n",
        "  train_accs.append(train_acc)\n",
        "  train_losses.append(train_loss)\n",
        "\n",
        "  # Validate\n",
        "  model.eval()\n",
        "  val_loss = 0.0\n",
        "  val_correct = 0\n",
        "  val_total = 0\n",
        "  with torch.no_grad():\n",
        "    for val_data, val_labels in val_loader:\n",
        "      val_outputs = model(val_data)\n",
        "      val_loss += criterion(val_outputs, val_labels).item()\n",
        "      _, val_predicted = torch.max(val_outputs.data, 1)\n",
        "      val_total += val_labels.size(0)\n",
        "      val_correct += (val_predicted == val_labels).sum().item()\n",
        "\n",
        "  # Compute validation accuracy and loss\n",
        "  val_acc = 100 * val_correct / val_total\n",
        "  val_loss /= len(val_loader)\n",
        "  val_accs.append(val_acc)\n",
        "  val_losses.append(val_loss)\n",
        "\n",
        "  print(f'Epoch [{epoch+1}/{num_epochs}], Training Loss: {train_loss:.4f}, Training Accuracy: {train_acc:.2f}%, Validation Loss: {val_loss:.4f}, Validation Accuracy: {val_acc:.2f}%')\n",
        "\n",
        "# Plot the loss functions\n",
        "plt.plot(train_losses, label='Training Loss')\n",
        "plt.plot(val_losses, label='Validation Loss')\n",
        "plt.xlabel('Epoch')\n",
        "plt.ylabel('Loss')\n",
        "plt.legend()\n",
        "plt.show()\n"
      ],
      "metadata": {
        "id": "zWha7uYly65X",
        "colab": {
          "base_uri": "https://localhost:8080/",
          "height": 643
        },
        "outputId": "741f200f-aaac-4cb7-f558-ebd1cb0c0fea"
      },
      "execution_count": null,
      "outputs": [
        {
          "output_type": "stream",
          "name": "stdout",
          "text": [
            "Epoch [1/10], Training Loss: 1.0967, Training Accuracy: 46.54%, Validation Loss: 1.0957, Validation Accuracy: 58.70%\n",
            "Epoch [2/10], Training Loss: 1.0961, Training Accuracy: 43.78%, Validation Loss: 1.0904, Validation Accuracy: 36.96%\n",
            "Epoch [3/10], Training Loss: 1.0907, Training Accuracy: 30.88%, Validation Loss: 1.0890, Validation Accuracy: 23.91%\n",
            "Epoch [4/10], Training Loss: 1.0975, Training Accuracy: 22.12%, Validation Loss: 1.0851, Validation Accuracy: 21.74%\n",
            "Epoch [5/10], Training Loss: 1.0761, Training Accuracy: 28.57%, Validation Loss: 1.0802, Validation Accuracy: 34.78%\n",
            "Epoch [6/10], Training Loss: 1.0923, Training Accuracy: 39.17%, Validation Loss: 1.0850, Validation Accuracy: 45.65%\n",
            "Epoch [7/10], Training Loss: 1.0924, Training Accuracy: 47.93%, Validation Loss: 1.0931, Validation Accuracy: 50.00%\n",
            "Epoch [8/10], Training Loss: 1.0850, Training Accuracy: 45.62%, Validation Loss: 1.0953, Validation Accuracy: 41.30%\n",
            "Epoch [9/10], Training Loss: 1.0956, Training Accuracy: 43.78%, Validation Loss: 1.0936, Validation Accuracy: 50.00%\n",
            "Epoch [10/10], Training Loss: 1.0957, Training Accuracy: 47.00%, Validation Loss: 1.0883, Validation Accuracy: 47.83%\n"
          ]
        },
        {
          "output_type": "display_data",
          "data": {
            "text/plain": [
              "<Figure size 640x480 with 1 Axes>"
            ],
            "image/png": "[encoded data removed]"
          },
          "metadata": {}
        }
      ]
    },
    {
      "cell_type": "code",
      "source": [
        "# Test the model\n",
        "model.eval()\n",
        "with torch.no_grad():\n",
        "    y_true = []\n",
        "    y_pred = []\n",
        "    for data, labels in test_loader:\n",
        "        outputs = model(data)\n",
        "        _, predicted = torch.max(outputs.data, 1)\n",
        "        y_true.extend(labels.numpy())\n",
        "        y_pred.extend(predicted.numpy())\n",
        "\n"
      ],
      "metadata": {
        "id": "V7lf_N-uy-zX"
      },
      "execution_count": null,
      "outputs": []
    },
    {
      "cell_type": "code",
      "source": [
        "# Evaluation metrics\n",
        "print('\\nClassification Report:')\n",
        "print(classification_report(y_true, y_pred, target_names=label_encoder.classes_))\n",
        "\n",
        "confusion_mtx = confusion_matrix(y_true, y_pred)\n",
        "sns.heatmap(confusion_mtx, annot=True, fmt='d', xticklabels=label_encoder.classes_, yticklabels=label_encoder.classes_)\n",
        "plt.xlabel('Predicted')\n",
        "plt.ylabel('True')\n",
        "plt.title('Confusion Matrix')\n",
        "plt.show()"
      ],
      "metadata": {
        "id": "2f0eOplQzA3I"
      },
      "execution_count": null,
      "outputs": []
    },
    {
      "cell_type": "markdown",
      "source": [
        "### F1, Precision, Recall, Sensitivity, Specificity, TP, FP, TN, FN, plot and ROC curve and calculate AUC"
      ],
      "metadata": {
        "id": "qf0sO-7y8cuT"
      }
    }
  ]
}