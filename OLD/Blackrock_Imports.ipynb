{
  "nbformat": 4,
  "nbformat_minor": 0,
  "metadata": {
    "colab": {
      "provenance": []
    },
    "kernelspec": {
      "name": "python3",
      "display_name": "Python 3"
    },
    "language_info": {
      "name": "python"
    }
  },
  "cells": [
    {
      "cell_type": "code",
      "source": [
        "!pip install git+https://github.com/BlackrockNeurotech/python-utilities.git\n",
        "import brpylib"
      ],
      "metadata": {
        "colab": {
          "base_uri": "https://localhost:8080/"
        },
        "id": "ZbzMcivmAI4I",
        "outputId": "8496fdfe-8cb4-4797-dfe3-fb8d98eaa423"
      },
      "execution_count": null,
      "outputs": [
        {
          "output_type": "stream",
          "name": "stdout",
          "text": [
            "Looking in indexes: https://pypi.org/simple, https://us-python.pkg.dev/colab-wheels/public/simple/\n",
            "Collecting git+https://github.com/BlackrockNeurotech/python-utilities.git\n",
            "  Cloning https://github.com/BlackrockNeurotech/python-utilities.git to /tmp/pip-req-build-tt8u5ivk\n",
            "  Running command git clone --filter=blob:none --quiet https://github.com/BlackrockNeurotech/python-utilities.git /tmp/pip-req-build-tt8u5ivk\n",
            "  Resolved https://github.com/BlackrockNeurotech/python-utilities.git to commit b574a6ff084d65d935672153a71b16f021c7a337\n",
            "  Installing build dependencies ... \u001b[?25l\u001b[?25hdone\n",
            "  Getting requirements to build wheel ... \u001b[?25l\u001b[?25hdone\n",
            "  Preparing metadata (pyproject.toml) ... \u001b[?25l\u001b[?25hdone\n",
            "Requirement already satisfied: qtpy in /usr/local/lib/python3.9/dist-packages (from brpylib==2.0.1) (2.3.0)\n",
            "Requirement already satisfied: pyside6-essentials in /usr/local/lib/python3.9/dist-packages (from brpylib==2.0.1) (6.4.3)\n",
            "Requirement already satisfied: numpy in /usr/local/lib/python3.9/dist-packages (from brpylib==2.0.1) (1.22.4)\n",
            "Requirement already satisfied: shiboken6==6.4.3 in /usr/local/lib/python3.9/dist-packages (from pyside6-essentials->brpylib==2.0.1) (6.4.3)\n",
            "Requirement already satisfied: packaging in /usr/local/lib/python3.9/dist-packages (from qtpy->brpylib==2.0.1) (23.0)\n"
          ]
        }
      ]
    },
    {
      "cell_type": "code",
      "execution_count": null,
      "metadata": {
        "colab": {
          "base_uri": "https://localhost:8080/"
        },
        "id": "MYwre9zK_KYr",
        "outputId": "996da3bc-b199-4109-f1c5-032cd42d58a5"
      },
      "outputs": [
        {
          "output_type": "stream",
          "name": "stdout",
          "text": [
            "Drive already mounted at /content/drive; to attempt to forcibly remount, call drive.mount(\"/content/drive\", force_remount=True).\n"
          ]
        }
      ],
      "source": [
        "from google.colab import drive\n",
        "drive.mount('/content/drive')\n",
        "\n"
      ]
    },
    {
      "cell_type": "code",
      "source": [
        "brpylib.NsxFile('/content/drive/MyDrive/MLMA Final project data/20210507-094819-001.ns6')\n",
        "#openNSx('report','read','/mnt/kangaroo/pawel/CCEP_data/JHM01data_20210507/20210507_101844_single_elec_rapid_response_1p/dataStreamer/NSPA/20210507-094819/20210507-094819-001.ns6')"
      ],
      "metadata": {
        "colab": {
          "base_uri": "https://localhost:8080/"
        },
        "id": "j9RaZWAG_wgI",
        "outputId": "a5021315-9570-4d69-af62-f756e2e3c106"
      },
      "execution_count": null,
      "outputs": [
        {
          "output_type": "stream",
          "name": "stdout",
          "text": [
            "\n",
            "20210507-094819-001.ns6 opened\n"
          ]
        },
        {
          "output_type": "execute_result",
          "data": {
            "text/plain": [
              "<brpylib.brpylib.NsxFile at 0x7fa836805520>"
            ]
          },
          "metadata": {},
          "execution_count": 5
        }
      ]
    },
    {
      "cell_type": "code",
      "source": [],
      "metadata": {
        "id": "yKzXLrqKByph"
      },
      "execution_count": null,
      "outputs": []
    }
  ]
}
