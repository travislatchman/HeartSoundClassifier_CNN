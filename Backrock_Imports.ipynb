{
  "nbformat": 4,
  "nbformat_minor": 0,
  "metadata": {
    "colab": {
      "provenance": [],
      "authorship_tag": "ABX9TyPb1m0W1AgAoh32/zjM/vah",
      "include_colab_link": true
    },
    "kernelspec": {
      "name": "python3",
      "display_name": "Python 3"
    },
    "language_info": {
      "name": "python"
    }
  },
  "cells": [
    {
      "cell_type": "markdown",
      "metadata": {
        "id": "view-in-github",
        "colab_type": "text"
      },
      "source": [
        "<a href=\"https://colab.research.google.com/github/travislatchman/TheBrains/blob/main/Backrock_Imports.ipynb\" target=\"_parent\"><img src=\"https://colab.research.google.com/assets/colab-badge.svg\" alt=\"Open In Colab\"/></a>"
      ]
    },
    {
      "cell_type": "code",
      "execution_count": null,
      "metadata": {
        "colab": {
          "base_uri": "https://localhost:8080/"
        },
        "id": "0M_zbcpZuLjF",
        "outputId": "7beed631-1b26-49b9-caf0-dbc68572d2b8"
      },
      "outputs": [
        {
          "output_type": "stream",
          "name": "stdout",
          "text": [
            "Looking in indexes: https://pypi.org/simple, https://us-python.pkg.dev/colab-wheels/public/simple/\n",
            "Collecting git+https://github.com/BlackrockNeurotech/python-utilities.git\n",
            "  Cloning https://github.com/BlackrockNeurotech/python-utilities.git to /tmp/pip-req-build-pv1bfr7y\n",
            "  Running command git clone --filter=blob:none --quiet https://github.com/BlackrockNeurotech/python-utilities.git /tmp/pip-req-build-pv1bfr7y\n",
            "  Resolved https://github.com/BlackrockNeurotech/python-utilities.git to commit b574a6ff084d65d935672153a71b16f021c7a337\n",
            "  Installing build dependencies ... \u001b[?25l\u001b[?25hdone\n",
            "  Getting requirements to build wheel ... \u001b[?25l\u001b[?25hdone\n",
            "  Preparing metadata (pyproject.toml) ... \u001b[?25l\u001b[?25hdone\n",
            "Collecting qtpy\n",
            "  Downloading QtPy-2.3.0-py3-none-any.whl (83 kB)\n",
            "\u001b[2K     \u001b[90m━━━━━━━━━━━━━━━━━━━━━━━━━━━━━━━━━━━━━━━━\u001b[0m \u001b[32m83.6/83.6 KB\u001b[0m \u001b[31m2.6 MB/s\u001b[0m eta \u001b[36m0:00:00\u001b[0m\n",
            "\u001b[?25hCollecting pyside6-essentials\n",
            "  Downloading PySide6_Essentials-6.4.3-cp37-abi3-manylinux_2_28_x86_64.whl (84.5 MB)\n",
            "\u001b[2K     \u001b[90m━━━━━━━━━━━━━━━━━━━━━━━━━━━━━━━━━━━━━━━━\u001b[0m \u001b[32m84.5/84.5 MB\u001b[0m \u001b[31m10.1 MB/s\u001b[0m eta \u001b[36m0:00:00\u001b[0m\n",
            "\u001b[?25hRequirement already satisfied: numpy in /usr/local/lib/python3.9/dist-packages (from brpylib==2.0.1) (1.22.4)\n",
            "Collecting shiboken6==6.4.3\n",
            "  Downloading shiboken6-6.4.3-cp37-abi3-manylinux_2_28_x86_64.whl (171 kB)\n",
            "\u001b[2K     \u001b[90m━━━━━━━━━━━━━━━━━━━━━━━━━━━━━━━━━━━━━━\u001b[0m \u001b[32m171.6/171.6 KB\u001b[0m \u001b[31m10.1 MB/s\u001b[0m eta \u001b[36m0:00:00\u001b[0m\n",
            "\u001b[?25hRequirement already satisfied: packaging in /usr/local/lib/python3.9/dist-packages (from qtpy->brpylib==2.0.1) (23.0)\n",
            "Building wheels for collected packages: brpylib\n",
            "  Building wheel for brpylib (pyproject.toml) ... \u001b[?25l\u001b[?25hdone\n",
            "  Created wheel for brpylib: filename=brpylib-2.0.1-py3-none-any.whl size=18925 sha256=6f6e4662e5515e962e7e6d462d8a7846882e85b152dc01225c6a0044bcccaf35\n",
            "  Stored in directory: /tmp/pip-ephem-wheel-cache-1591au60/wheels/92/bd/3e/c69fdae35d608dc128cd91c557aff211f834352eec43f18496\n",
            "Successfully built brpylib\n",
            "Installing collected packages: shiboken6, qtpy, pyside6-essentials, brpylib\n",
            "Successfully installed brpylib-2.0.1 pyside6-essentials-6.4.3 qtpy-2.3.0 shiboken6-6.4.3\n"
          ]
        }
      ],
      "source": [
        "!pip install git+https://github.com/BlackrockNeurotech/python-utilities.git\n"
      ]
    },
    {
      "cell_type": "code",
      "source": [
        "import brpylib\n"
      ],
      "metadata": {
        "id": "GJPlmcrauPND"
      },
      "execution_count": null,
      "outputs": []
    }
  ]
}