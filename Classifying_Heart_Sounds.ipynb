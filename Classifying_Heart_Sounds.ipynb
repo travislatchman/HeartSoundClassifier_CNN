{
  "nbformat": 4,
  "nbformat_minor": 0,
  "metadata": {
    "colab": {
      "provenance": [],
      "authorship_tag": "ABX9TyN+Aw60zmsbm/lNQiu+xdOf",
      "include_colab_link": true
    },
    "kernelspec": {
      "name": "python3",
      "display_name": "Python 3"
    },
    "language_info": {
      "name": "python"
    }
  },
  "cells": [
    {
      "cell_type": "markdown",
      "metadata": {
        "id": "view-in-github",
        "colab_type": "text"
      },
      "source": [
        "<a href=\"https://colab.research.google.com/github/travislatchman/TheHearts/blob/main/Classifying_Heart_Sounds.ipynb\" target=\"_parent\"><img src=\"https://colab.research.google.com/assets/colab-badge.svg\" alt=\"Open In Colab\"/></a>"
      ]
    },
    {
      "cell_type": "code",
      "execution_count": null,
      "metadata": {
        "id": "Q9Tw7jh0VYkn"
      },
      "outputs": [],
      "source": [
        "!pip install numpy pandas scipy sklearn librosa matplotlib"
      ]
    },
    {
      "cell_type": "markdown",
      "source": [
        "## Load and preprocess the data"
      ],
      "metadata": {
        "id": "GKdhy_ybSLr-"
      }
    },
    {
      "cell_type": "markdown",
      "source": [
        "### apply a low-pass filter at 195 Hz"
      ],
      "metadata": {
        "id": "Y27-L9X7SRYe"
      }
    },
    {
      "cell_type": "code",
      "source": [
        "import librosa\n",
        "\n",
        "def load_audio_file(file_path):\n",
        "    signal, sample_rate = librosa.load(file_path, sr=None)\n",
        "    return signal, sample_rate\n",
        "\n",
        "def low_pass_filter(signal, sample_rate, cutoff=195):\n",
        "    from scipy.signal import butter, lfilter\n",
        "    \n",
        "    def butter_lowpass(cutoff, fs, order=5):\n",
        "        nyq = 0.5 * fs\n",
        "        normal_cutoff = cutoff / nyq\n",
        "        b, a = butter(order, normal_cutoff, btype='low', analog=False)\n",
        "        return b, a\n",
        "\n",
        "    def butter_lowpass_filter(data, cutoff, fs, order=5):\n",
        "        b, a = butter_lowpass(cutoff, fs, order=order)\n",
        "        y = lfilter(b, a, data)\n",
        "        return y\n",
        "\n",
        "    filtered_signal = butter_lowpass_filter(signal, cutoff, sample_rate)\n",
        "    return filtered_signal\n"
      ],
      "metadata": {
        "id": "BN8vKsIxSHCx"
      },
      "execution_count": null,
      "outputs": []
    },
    {
      "cell_type": "markdown",
      "source": [
        "## Extract features:"
      ],
      "metadata": {
        "id": "Ev0VheLpSaTU"
      }
    },
    {
      "cell_type": "markdown",
      "source": [
        "### relevant features, such as Mel-frequency cepstral coefficients (MFCCs),chroma features, or spectral contrast"
      ],
      "metadata": {
        "id": "5rDKGUH3S1ur"
      }
    },
    {
      "cell_type": "code",
      "source": [
        "def extract_features(signal, sample_rate):\n",
        "    mfccs = librosa.feature.mfcc(signal, sr=sample_rate, n_mfcc=13)\n",
        "    chroma = librosa.feature.chroma_stft(signal, sr=sample_rate)\n",
        "    spec_contrast = librosa.feature.spectral_contrast(signal, sr=sample_rate)\n",
        "\n",
        "    return mfccs, chroma, spec_contrast\n"
      ],
      "metadata": {
        "id": "g0ppccbZS6ZK"
      },
      "execution_count": null,
      "outputs": []
    }
  ]
}